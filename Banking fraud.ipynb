{
 "cells": [
  {
   "cell_type": "markdown",
   "id": "d22557bc-e287-4653-8f8c-a64d5606f58a",
   "metadata": {},
   "source": [
    "# Detecting Fraudulent ATM transactions project"
   ]
  },
  {
   "cell_type": "code",
   "execution_count": 1,
   "id": "44e63646-61d9-4219-a6f4-625c74261be6",
   "metadata": {},
   "outputs": [],
   "source": [
    "import os \n",
    "import numpy as np\n",
    "import pandas as pd\n",
    "import matplotlib.pyplot as plt\n",
    "%matplotlib inline\n",
    "import seaborn as sns\n",
    "sns.set()\n",
    "import warnings\n",
    "warnings.filterwarnings(\"ignore\")"
   ]
  },
  {
   "cell_type": "code",
   "execution_count": 2,
   "id": "bba5e20a-ef73-4c5b-9d53-2aa77cd516d9",
   "metadata": {},
   "outputs": [],
   "source": [
    "geo = pd.read_csv('Geo_scores.csv')\n",
    "instance = pd.read_csv(\"instance_scores.csv\")\n",
    "lambdawts = pd.read_csv(\"Lambda_wts.csv\")\n",
    "qset = pd.read_csv(\"Qset_tats.csv\")\n",
    "test_data = pd.read_csv(\"test_share.csv\")\n",
    "train_data = pd.read_csv('train.csv')"
   ]
  },
  {
   "cell_type": "code",
   "execution_count": 3,
   "id": "f1aa2306-3c7f-4843-8054-ca50ee0c447f",
   "metadata": {},
   "outputs": [
    {
     "name": "stdout",
     "output_type": "stream",
     "text": [
      "(1424035, 2)\n",
      "\n",
      "(1424035, 2)\n",
      "\n",
      "(1400, 2)\n",
      "\n",
      "(1424035, 2)\n",
      "\n",
      "(56962, 27)\n",
      "\n",
      "(227845, 28)\n"
     ]
    }
   ],
   "source": [
    "print(geo.shape)\n",
    "print()\n",
    "print(instance.shape)\n",
    "print()\n",
    "print(lambdawts.shape)\n",
    "print()\n",
    "print(qset.shape)\n",
    "print()\n",
    "print(test_data.shape)\n",
    "print()\n",
    "print(train_data.shape)"
   ]
  },
  {
   "cell_type": "code",
   "execution_count": null,
   "id": "ecc56bb6-9eaf-4824-bc73-3fc569fea852",
   "metadata": {},
   "outputs": [],
   "source": []
  }
 ],
 "metadata": {
  "kernelspec": {
   "display_name": "Python 3 (ipykernel)",
   "language": "python",
   "name": "python3"
  },
  "language_info": {
   "codemirror_mode": {
    "name": "ipython",
    "version": 3
   },
   "file_extension": ".py",
   "mimetype": "text/x-python",
   "name": "python",
   "nbconvert_exporter": "python",
   "pygments_lexer": "ipython3",
   "version": "3.11.8"
  }
 },
 "nbformat": 4,
 "nbformat_minor": 5
}
