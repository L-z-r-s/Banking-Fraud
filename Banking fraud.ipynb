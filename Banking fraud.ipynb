{
 "cells": [
  {
   "cell_type": "markdown",
   "id": "d22557bc-e287-4653-8f8c-a64d5606f58a",
   "metadata": {},
   "source": [
    "# Detecting Fraudulent ATM transactions project"
   ]
  },
  {
   "cell_type": "code",
   "execution_count": 1,
   "id": "44e63646-61d9-4219-a6f4-625c74261be6",
   "metadata": {},
   "outputs": [],
   "source": [
    "import os \n",
    "import numpy as np\n",
    "import pandas as pd\n",
    "import matplotlib.pyplot as plt\n",
    "%matplotlib inline\n",
    "import seaborn as sns\n",
    "sns.set()\n",
    "import warnings\n",
    "warnings.filterwarnings(\"ignore\")"
   ]
  },
  {
   "cell_type": "code",
   "execution_count": 2,
   "id": "bba5e20a-ef73-4c5b-9d53-2aa77cd516d9",
   "metadata": {},
   "outputs": [],
   "source": [
    "geo = pd.read_csv('Geo_scores.csv')\n",
    "instance = pd.read_csv(\"instance_scores.csv\")\n",
    "lambdawts = pd.read_csv(\"Lambda_wts.csv\")\n",
    "qset = pd.read_csv(\"Qset_tats.csv\")\n",
    "test_data = pd.read_csv(\"test_share.csv\")\n",
    "train_data = pd.read_csv('train.csv')"
   ]
  },
  {
   "cell_type": "code",
   "execution_count": 3,
   "id": "f1aa2306-3c7f-4843-8054-ca50ee0c447f",
   "metadata": {},
   "outputs": [
    {
     "name": "stdout",
     "output_type": "stream",
     "text": [
      "(1424035, 2)\n",
      "\n",
      "(1424035, 2)\n",
      "\n",
      "(1400, 2)\n",
      "\n",
      "(1424035, 2)\n",
      "\n",
      "(56962, 27)\n",
      "\n",
      "(227845, 28)\n"
     ]
    }
   ],
   "source": [
    "print(geo.shape)\n",
    "print()\n",
    "print(instance.shape)\n",
    "print()\n",
    "print(lambdawts.shape)\n",
    "print()\n",
    "print(qset.shape)\n",
    "print()\n",
    "print(test_data.shape)\n",
    "print()\n",
    "print(train_data.shape)"
   ]
  },
  {
   "cell_type": "code",
   "execution_count": 4,
   "id": "ecc56bb6-9eaf-4824-bc73-3fc569fea852",
   "metadata": {},
   "outputs": [
    {
     "name": "stdout",
     "output_type": "stream",
     "text": [
      "<class 'pandas.core.frame.DataFrame'>\n",
      "RangeIndex: 1424035 entries, 0 to 1424034\n",
      "Data columns (total 2 columns):\n",
      " #   Column     Non-Null Count    Dtype  \n",
      "---  ------     --------------    -----  \n",
      " 0   id         1424035 non-null  int64  \n",
      " 1   geo_score  1352492 non-null  float64\n",
      "dtypes: float64(1), int64(1)\n",
      "memory usage: 21.7 MB\n",
      "None\n",
      "&&&&&&&&&&&&&&&&&&&&&&&&&&&&&&&&&&&&&&&**************************&&&&&&&&&&&&&&&&&&&&&&&&&&&&&&&&&&&&&&&&&\n",
      "<class 'pandas.core.frame.DataFrame'>\n",
      "RangeIndex: 1424035 entries, 0 to 1424034\n",
      "Data columns (total 2 columns):\n",
      " #   Column           Non-Null Count    Dtype  \n",
      "---  ------           --------------    -----  \n",
      " 0   id               1424035 non-null  int64  \n",
      " 1   instance_scores  1424035 non-null  float64\n",
      "dtypes: float64(1), int64(1)\n",
      "memory usage: 21.7 MB\n",
      "None\n",
      "&&&&&&&&&&&&&&&&&&&&&&&&&&&&&&&&&&&&&&&**************************&&&&&&&&&&&&&&&&&&&&&&&&&&&&&&&&&&&&&&&&&\n",
      "<class 'pandas.core.frame.DataFrame'>\n",
      "RangeIndex: 1400 entries, 0 to 1399\n",
      "Data columns (total 2 columns):\n",
      " #   Column     Non-Null Count  Dtype  \n",
      "---  ------     --------------  -----  \n",
      " 0   Group      1400 non-null   object \n",
      " 1   lambda_wt  1400 non-null   float64\n",
      "dtypes: float64(1), object(1)\n",
      "memory usage: 22.0+ KB\n",
      "None\n",
      "&&&&&&&&&&&&&&&&&&&&&&&&&&&&&&&&&&&&&&&**************************&&&&&&&&&&&&&&&&&&&&&&&&&&&&&&&&&&&&&&&&&\n",
      "<class 'pandas.core.frame.DataFrame'>\n",
      "RangeIndex: 1424035 entries, 0 to 1424034\n",
      "Data columns (total 2 columns):\n",
      " #   Column                Non-Null Count    Dtype  \n",
      "---  ------                --------------    -----  \n",
      " 0   id                    1424035 non-null  int64  \n",
      " 1   qsets_normalized_tat  1320834 non-null  float64\n",
      "dtypes: float64(1), int64(1)\n",
      "memory usage: 21.7 MB\n",
      "None\n",
      "&&&&&&&&&&&&&&&&&&&&&&&&&&&&&&&&&&&&&&&**************************&&&&&&&&&&&&&&&&&&&&&&&&&&&&&&&&&&&&&&&&&\n",
      "<class 'pandas.core.frame.DataFrame'>\n",
      "RangeIndex: 56962 entries, 0 to 56961\n",
      "Data columns (total 27 columns):\n",
      " #   Column          Non-Null Count  Dtype  \n",
      "---  ------          --------------  -----  \n",
      " 0   id              56962 non-null  int64  \n",
      " 1   Group           56962 non-null  object \n",
      " 2   Per1            56962 non-null  float64\n",
      " 3   Per2            56962 non-null  float64\n",
      " 4   Per3            56962 non-null  float64\n",
      " 5   Per4            56962 non-null  float64\n",
      " 6   Per5            56962 non-null  float64\n",
      " 7   Per6            56962 non-null  float64\n",
      " 8   Per7            56962 non-null  float64\n",
      " 9   Per8            56962 non-null  float64\n",
      " 10  Per9            56962 non-null  float64\n",
      " 11  Dem1            56962 non-null  float64\n",
      " 12  Dem2            56962 non-null  float64\n",
      " 13  Dem3            56962 non-null  float64\n",
      " 14  Dem4            56962 non-null  float64\n",
      " 15  Dem5            56962 non-null  float64\n",
      " 16  Dem6            56962 non-null  float64\n",
      " 17  Dem7            56962 non-null  float64\n",
      " 18  Dem8            56962 non-null  float64\n",
      " 19  Dem9            56962 non-null  float64\n",
      " 20  Cred1           56962 non-null  float64\n",
      " 21  Cred2           56962 non-null  float64\n",
      " 22  Cred3           56962 non-null  float64\n",
      " 23  Cred4           56962 non-null  float64\n",
      " 24  Cred5           56962 non-null  float64\n",
      " 25  Cred6           56962 non-null  float64\n",
      " 26  Normalised_FNT  56962 non-null  float64\n",
      "dtypes: float64(25), int64(1), object(1)\n",
      "memory usage: 11.7+ MB\n",
      "None\n",
      "&&&&&&&&&&&&&&&&&&&&&&&&&&&&&&&&&&&&&&&**************************&&&&&&&&&&&&&&&&&&&&&&&&&&&&&&&&&&&&&&&&&\n",
      "<class 'pandas.core.frame.DataFrame'>\n",
      "RangeIndex: 227845 entries, 0 to 227844\n",
      "Data columns (total 28 columns):\n",
      " #   Column          Non-Null Count   Dtype  \n",
      "---  ------          --------------   -----  \n",
      " 0   id              227845 non-null  int64  \n",
      " 1   Group           227845 non-null  object \n",
      " 2   Per1            227845 non-null  float64\n",
      " 3   Per2            227845 non-null  float64\n",
      " 4   Per3            227845 non-null  float64\n",
      " 5   Per4            227845 non-null  float64\n",
      " 6   Per5            227845 non-null  float64\n",
      " 7   Per6            227845 non-null  float64\n",
      " 8   Per7            227845 non-null  float64\n",
      " 9   Per8            227845 non-null  float64\n",
      " 10  Per9            227845 non-null  float64\n",
      " 11  Dem1            227845 non-null  float64\n",
      " 12  Dem2            227845 non-null  float64\n",
      " 13  Dem3            227845 non-null  float64\n",
      " 14  Dem4            227845 non-null  float64\n",
      " 15  Dem5            227845 non-null  float64\n",
      " 16  Dem6            227845 non-null  float64\n",
      " 17  Dem7            227845 non-null  float64\n",
      " 18  Dem8            227845 non-null  float64\n",
      " 19  Dem9            227845 non-null  float64\n",
      " 20  Cred1           227845 non-null  float64\n",
      " 21  Cred2           227845 non-null  float64\n",
      " 22  Cred3           227845 non-null  float64\n",
      " 23  Cred4           227845 non-null  float64\n",
      " 24  Cred5           227845 non-null  float64\n",
      " 25  Cred6           227845 non-null  float64\n",
      " 26  Normalised_FNT  227845 non-null  float64\n",
      " 27  Target          227845 non-null  int64  \n",
      "dtypes: float64(25), int64(2), object(1)\n",
      "memory usage: 48.7+ MB\n",
      "None\n"
     ]
    }
   ],
   "source": [
    "print(geo.info())\n",
    "print(\"&&&&&&&&&&&&&&&&&&&&&&&&&&&&&&&&&&&&&&&**************************&&&&&&&&&&&&&&&&&&&&&&&&&&&&&&&&&&&&&&&&&\")\n",
    "print(instance.info())\n",
    "print(\"&&&&&&&&&&&&&&&&&&&&&&&&&&&&&&&&&&&&&&&**************************&&&&&&&&&&&&&&&&&&&&&&&&&&&&&&&&&&&&&&&&&\")\n",
    "print(lambdawts.info())\n",
    "print(\"&&&&&&&&&&&&&&&&&&&&&&&&&&&&&&&&&&&&&&&**************************&&&&&&&&&&&&&&&&&&&&&&&&&&&&&&&&&&&&&&&&&\")\n",
    "print(qset.info())\n",
    "print(\"&&&&&&&&&&&&&&&&&&&&&&&&&&&&&&&&&&&&&&&**************************&&&&&&&&&&&&&&&&&&&&&&&&&&&&&&&&&&&&&&&&&\")\n",
    "print(test_data.info())\n",
    "print(\"&&&&&&&&&&&&&&&&&&&&&&&&&&&&&&&&&&&&&&&**************************&&&&&&&&&&&&&&&&&&&&&&&&&&&&&&&&&&&&&&&&&\")\n",
    "print(train_data.info())"
   ]
  },
  {
   "cell_type": "code",
   "execution_count": 5,
   "id": "870a5c6d-ed90-49a9-ba8a-819cbd910645",
   "metadata": {},
   "outputs": [
    {
     "name": "stdout",
     "output_type": "stream",
     "text": [
      "id           284807\n",
      "geo_score     25523\n",
      "dtype: int64\n",
      "*********************************\n",
      "id                 284807\n",
      "instance_scores     11158\n",
      "dtype: int64\n",
      "*********************************\n",
      "Group        1400\n",
      "lambda_wt    1400\n",
      "dtype: int64\n",
      "*********************************\n",
      "id                      284807\n",
      "qsets_normalized_tat     24832\n",
      "dtype: int64\n",
      "*********************************\n",
      "Test_data[Group]: 915\n",
      "*********************************\n",
      "Train_data[Group]: 1301\n"
     ]
    }
   ],
   "source": [
    "print(geo.nunique())\n",
    "print(\"*********************************\")\n",
    "print(instance.nunique())\n",
    "print(\"*********************************\")\n",
    "print(lambdawts.nunique())\n",
    "print(\"*********************************\")\n",
    "print(qset.nunique())\n",
    "print(\"*********************************\")\n",
    "print(\"Test_data[Group]:\",test_data['Group'].nunique())\n",
    "print(\"*********************************\")\n",
    "print(\"Train_data[Group]:\",train_data['Group'].nunique())"
   ]
  },
  {
   "cell_type": "code",
   "execution_count": 6,
   "id": "b0f8ff14-0a87-4e81-ba55-87134e633c83",
   "metadata": {},
   "outputs": [],
   "source": [
    "train_data['from']='train'\n",
    "test_data['from']=\"test\""
   ]
  },
  {
   "cell_type": "code",
   "execution_count": 7,
   "id": "7e640eb5-9ff3-4ff2-87a0-fb035b3a2d90",
   "metadata": {},
   "outputs": [],
   "source": [
    "Total_data=pd.concat([train_data,test_data],axis=0)"
   ]
  },
  {
   "cell_type": "code",
   "execution_count": 8,
   "id": "6d4c147c-69ff-40ec-b4d2-100f3ec85451",
   "metadata": {},
   "outputs": [
    {
     "data": {
      "text/html": [
       "<div>\n",
       "<style scoped>\n",
       "    .dataframe tbody tr th:only-of-type {\n",
       "        vertical-align: middle;\n",
       "    }\n",
       "\n",
       "    .dataframe tbody tr th {\n",
       "        vertical-align: top;\n",
       "    }\n",
       "\n",
       "    .dataframe thead th {\n",
       "        text-align: right;\n",
       "    }\n",
       "</style>\n",
       "<table border=\"1\" class=\"dataframe\">\n",
       "  <thead>\n",
       "    <tr style=\"text-align: right;\">\n",
       "      <th></th>\n",
       "      <th>id</th>\n",
       "      <th>Group</th>\n",
       "      <th>Per1</th>\n",
       "      <th>Per2</th>\n",
       "      <th>Per3</th>\n",
       "      <th>Per4</th>\n",
       "      <th>Per5</th>\n",
       "      <th>Per6</th>\n",
       "      <th>Per7</th>\n",
       "      <th>Per8</th>\n",
       "      <th>...</th>\n",
       "      <th>Dem9</th>\n",
       "      <th>Cred1</th>\n",
       "      <th>Cred2</th>\n",
       "      <th>Cred3</th>\n",
       "      <th>Cred4</th>\n",
       "      <th>Cred5</th>\n",
       "      <th>Cred6</th>\n",
       "      <th>Normalised_FNT</th>\n",
       "      <th>Target</th>\n",
       "      <th>from</th>\n",
       "    </tr>\n",
       "  </thead>\n",
       "  <tbody>\n",
       "    <tr>\n",
       "      <th>0</th>\n",
       "      <td>112751</td>\n",
       "      <td>Grp169</td>\n",
       "      <td>1.070000</td>\n",
       "      <td>0.580000</td>\n",
       "      <td>0.480000</td>\n",
       "      <td>0.766667</td>\n",
       "      <td>1.233333</td>\n",
       "      <td>1.993333</td>\n",
       "      <td>0.340000</td>\n",
       "      <td>1.010000</td>\n",
       "      <td>...</td>\n",
       "      <td>0.726667</td>\n",
       "      <td>0.606667</td>\n",
       "      <td>1.010000</td>\n",
       "      <td>0.933333</td>\n",
       "      <td>0.603333</td>\n",
       "      <td>0.686667</td>\n",
       "      <td>0.673333</td>\n",
       "      <td>-245.7500</td>\n",
       "      <td>0.0</td>\n",
       "      <td>train</td>\n",
       "    </tr>\n",
       "    <tr>\n",
       "      <th>1</th>\n",
       "      <td>18495</td>\n",
       "      <td>Grp161</td>\n",
       "      <td>0.473333</td>\n",
       "      <td>1.206667</td>\n",
       "      <td>0.883333</td>\n",
       "      <td>1.430000</td>\n",
       "      <td>0.726667</td>\n",
       "      <td>0.626667</td>\n",
       "      <td>0.810000</td>\n",
       "      <td>0.783333</td>\n",
       "      <td>...</td>\n",
       "      <td>0.743333</td>\n",
       "      <td>0.680000</td>\n",
       "      <td>0.690000</td>\n",
       "      <td>0.560000</td>\n",
       "      <td>0.670000</td>\n",
       "      <td>0.553333</td>\n",
       "      <td>0.653333</td>\n",
       "      <td>-248.0000</td>\n",
       "      <td>0.0</td>\n",
       "      <td>train</td>\n",
       "    </tr>\n",
       "    <tr>\n",
       "      <th>2</th>\n",
       "      <td>23915</td>\n",
       "      <td>Grp261</td>\n",
       "      <td>1.130000</td>\n",
       "      <td>0.143333</td>\n",
       "      <td>0.946667</td>\n",
       "      <td>0.123333</td>\n",
       "      <td>0.080000</td>\n",
       "      <td>0.836667</td>\n",
       "      <td>0.056667</td>\n",
       "      <td>0.756667</td>\n",
       "      <td>...</td>\n",
       "      <td>0.820000</td>\n",
       "      <td>0.600000</td>\n",
       "      <td>0.383333</td>\n",
       "      <td>0.763333</td>\n",
       "      <td>0.670000</td>\n",
       "      <td>0.686667</td>\n",
       "      <td>0.673333</td>\n",
       "      <td>-233.1250</td>\n",
       "      <td>0.0</td>\n",
       "      <td>train</td>\n",
       "    </tr>\n",
       "    <tr>\n",
       "      <th>3</th>\n",
       "      <td>50806</td>\n",
       "      <td>Grp198</td>\n",
       "      <td>0.636667</td>\n",
       "      <td>1.090000</td>\n",
       "      <td>0.750000</td>\n",
       "      <td>0.940000</td>\n",
       "      <td>0.743333</td>\n",
       "      <td>0.346667</td>\n",
       "      <td>0.956667</td>\n",
       "      <td>0.633333</td>\n",
       "      <td>...</td>\n",
       "      <td>0.900000</td>\n",
       "      <td>0.680000</td>\n",
       "      <td>0.846667</td>\n",
       "      <td>0.423333</td>\n",
       "      <td>0.520000</td>\n",
       "      <td>0.846667</td>\n",
       "      <td>0.760000</td>\n",
       "      <td>-249.7775</td>\n",
       "      <td>0.0</td>\n",
       "      <td>train</td>\n",
       "    </tr>\n",
       "    <tr>\n",
       "      <th>4</th>\n",
       "      <td>184244</td>\n",
       "      <td>Grp228</td>\n",
       "      <td>0.560000</td>\n",
       "      <td>1.013333</td>\n",
       "      <td>0.593333</td>\n",
       "      <td>0.416667</td>\n",
       "      <td>0.773333</td>\n",
       "      <td>0.460000</td>\n",
       "      <td>0.853333</td>\n",
       "      <td>0.796667</td>\n",
       "      <td>...</td>\n",
       "      <td>0.486667</td>\n",
       "      <td>0.693333</td>\n",
       "      <td>0.526667</td>\n",
       "      <td>0.520000</td>\n",
       "      <td>0.716667</td>\n",
       "      <td>0.706667</td>\n",
       "      <td>0.673333</td>\n",
       "      <td>-247.5775</td>\n",
       "      <td>0.0</td>\n",
       "      <td>train</td>\n",
       "    </tr>\n",
       "  </tbody>\n",
       "</table>\n",
       "<p>5 rows × 29 columns</p>\n",
       "</div>"
      ],
      "text/plain": [
       "       id   Group      Per1      Per2      Per3      Per4      Per5      Per6  \\\n",
       "0  112751  Grp169  1.070000  0.580000  0.480000  0.766667  1.233333  1.993333   \n",
       "1   18495  Grp161  0.473333  1.206667  0.883333  1.430000  0.726667  0.626667   \n",
       "2   23915  Grp261  1.130000  0.143333  0.946667  0.123333  0.080000  0.836667   \n",
       "3   50806  Grp198  0.636667  1.090000  0.750000  0.940000  0.743333  0.346667   \n",
       "4  184244  Grp228  0.560000  1.013333  0.593333  0.416667  0.773333  0.460000   \n",
       "\n",
       "       Per7      Per8  ...      Dem9     Cred1     Cred2     Cred3     Cred4  \\\n",
       "0  0.340000  1.010000  ...  0.726667  0.606667  1.010000  0.933333  0.603333   \n",
       "1  0.810000  0.783333  ...  0.743333  0.680000  0.690000  0.560000  0.670000   \n",
       "2  0.056667  0.756667  ...  0.820000  0.600000  0.383333  0.763333  0.670000   \n",
       "3  0.956667  0.633333  ...  0.900000  0.680000  0.846667  0.423333  0.520000   \n",
       "4  0.853333  0.796667  ...  0.486667  0.693333  0.526667  0.520000  0.716667   \n",
       "\n",
       "      Cred5     Cred6  Normalised_FNT  Target   from  \n",
       "0  0.686667  0.673333       -245.7500     0.0  train  \n",
       "1  0.553333  0.653333       -248.0000     0.0  train  \n",
       "2  0.686667  0.673333       -233.1250     0.0  train  \n",
       "3  0.846667  0.760000       -249.7775     0.0  train  \n",
       "4  0.706667  0.673333       -247.5775     0.0  train  \n",
       "\n",
       "[5 rows x 29 columns]"
      ]
     },
     "execution_count": 8,
     "metadata": {},
     "output_type": "execute_result"
    }
   ],
   "source": [
    "Total_data.head()"
   ]
  },
  {
   "cell_type": "code",
   "execution_count": 9,
   "id": "96820bbb-ea46-4c2d-900e-034901509fa9",
   "metadata": {},
   "outputs": [
    {
     "data": {
      "text/plain": [
       "from\n",
       "train    227845\n",
       "test      56962\n",
       "Name: count, dtype: int64"
      ]
     },
     "execution_count": 9,
     "metadata": {},
     "output_type": "execute_result"
    }
   ],
   "source": [
    "Total_data['from'].value_counts()"
   ]
  },
  {
   "cell_type": "code",
   "execution_count": 10,
   "id": "e54ffc11-bc80-4dc4-8a1b-61e118ddf219",
   "metadata": {},
   "outputs": [
    {
     "data": {
      "text/plain": [
       "1400"
      ]
     },
     "execution_count": 10,
     "metadata": {},
     "output_type": "execute_result"
    }
   ],
   "source": [
    "Total_data['Group'].nunique()"
   ]
  },
  {
   "cell_type": "code",
   "execution_count": 11,
   "id": "b4a2a575-eb63-416c-88b0-f2fc92bd6725",
   "metadata": {},
   "outputs": [
    {
     "name": "stdout",
     "output_type": "stream",
     "text": [
      "id               0\n",
      "geo_score    71543\n",
      "dtype: int64\n",
      "*****************************\n",
      "id                 0\n",
      "instance_scores    0\n",
      "dtype: int64\n",
      "*****************************\n",
      "Group        0\n",
      "lambda_wt    0\n",
      "dtype: int64\n",
      "*****************************\n",
      "id                           0\n",
      "qsets_normalized_tat    103201\n",
      "dtype: int64\n",
      "*****************************\n",
      "id                    0\n",
      "Group                 0\n",
      "Per1                  0\n",
      "Per2                  0\n",
      "Per3                  0\n",
      "Per4                  0\n",
      "Per5                  0\n",
      "Per6                  0\n",
      "Per7                  0\n",
      "Per8                  0\n",
      "Per9                  0\n",
      "Dem1                  0\n",
      "Dem2                  0\n",
      "Dem3                  0\n",
      "Dem4                  0\n",
      "Dem5                  0\n",
      "Dem6                  0\n",
      "Dem7                  0\n",
      "Dem8                  0\n",
      "Dem9                  0\n",
      "Cred1                 0\n",
      "Cred2                 0\n",
      "Cred3                 0\n",
      "Cred4                 0\n",
      "Cred5                 0\n",
      "Cred6                 0\n",
      "Normalised_FNT        0\n",
      "Target            56962\n",
      "from                  0\n",
      "dtype: int64\n"
     ]
    }
   ],
   "source": [
    "print(geo.isnull().sum())\n",
    "print(\"*****************************\")\n",
    "print(instance.isnull().sum())\n",
    "print(\"*****************************\")\n",
    "print(lambdawts.isnull().sum())\n",
    "print(\"*****************************\")\n",
    "print(qset.isnull().sum())\n",
    "print(\"*****************************\")\n",
    "print(Total_data.isnull().sum())"
   ]
  },
  {
   "cell_type": "code",
   "execution_count": 12,
   "id": "46e62d08-59fd-4ae6-b395-394790add752",
   "metadata": {},
   "outputs": [
    {
     "name": "stdout",
     "output_type": "stream",
     "text": [
      "                 id     geo_score\n",
      "count  1.424035e+06  1.352492e+06\n",
      "mean   1.424030e+05 -9.279168e-06\n",
      "std    8.221673e+04  7.827199e+00\n",
      "min    0.000000e+00 -1.093900e+02\n",
      "25%    7.120100e+04 -5.860000e+00\n",
      "50%    1.424030e+05  1.800000e-01\n",
      "75%    2.136050e+05  5.860000e+00\n",
      "max    2.848060e+05  4.581000e+01\n",
      "###########################\n",
      "                 id  qsets_normalized_tat\n",
      "count  1.424035e+06          1.320834e+06\n",
      "mean   1.424030e+05          1.094006e-05\n",
      "std    8.221673e+04          7.731794e+00\n",
      "min    0.000000e+00         -1.404400e+02\n",
      "25%    7.120100e+04         -5.860000e+00\n",
      "50%    1.424030e+05          2.000000e-02\n",
      "75%    2.136050e+05          5.860000e+00\n",
      "max    2.848060e+05          6.110000e+01\n"
     ]
    }
   ],
   "source": [
    "print(geo.describe())\n",
    "print(\"###########################\")\n",
    "print(qset.describe())"
   ]
  },
  {
   "cell_type": "code",
   "execution_count": 13,
   "id": "4281ce69-3791-48c0-b385-6fc1a45e2761",
   "metadata": {},
   "outputs": [
    {
     "data": {
      "text/plain": [
       "<Axes: >"
      ]
     },
     "execution_count": 13,
     "metadata": {},
     "output_type": "execute_result"
    },
    {
     "data": {
      "image/png": "[encoded data removed]",
      "text/plain": [
       "<Figure size 640x480 with 1 Axes>"
      ]
     },
     "metadata": {},
     "output_type": "display_data"
    }
   ],
   "source": [
    "sns.boxplot(geo['geo_score'])"
   ]
  },
  {
   "cell_type": "code",
   "execution_count": 14,
   "id": "16b190d6-d66c-4196-ac97-d5b0102e4494",
   "metadata": {},
   "outputs": [
    {
     "data": {
      "text/plain": [
       "0.18"
      ]
     },
     "execution_count": 14,
     "metadata": {},
     "output_type": "execute_result"
    },
    {
     "data": {
      "image/png": "[encoded data removed]",
      "text/plain": [
       "<Figure size 640x480 with 1 Axes>"
      ]
     },
     "metadata": {},
     "output_type": "display_data"
    }
   ],
   "source": [
    "sns.distplot(geo['geo_score'])\n",
    "geo['geo_score'].median()"
   ]
  },
  {
   "cell_type": "code",
   "execution_count": 15,
   "id": "fddc758f-e5b5-4ad8-8ebd-86c580b12d9a",
   "metadata": {},
   "outputs": [
    {
     "data": {
      "text/plain": [
       "<Axes: >"
      ]
     },
     "execution_count": 15,
     "metadata": {},
     "output_type": "execute_result"
    },
    {
     "data": {
      "image/png": "[encoded data removed]",
      "text/plain": [
       "<Figure size 640x480 with 1 Axes>"
      ]
     },
     "metadata": {},
     "output_type": "display_data"
    }
   ],
   "source": [
    "sns.boxplot(qset['qsets_normalized_tat'])"
   ]
  },
  {
   "cell_type": "code",
   "execution_count": 16,
   "id": "57ca9a3a-82b1-4820-a536-ecdb8bd9976b",
   "metadata": {},
   "outputs": [
    {
     "data": {
      "text/plain": [
       "0.0199999999999997"
      ]
     },
     "execution_count": 16,
     "metadata": {},
     "output_type": "execute_result"
    },
    {
     "data": {
      "image/png": "[encoded data removed]",
      "text/plain": [
       "<Figure size 640x480 with 1 Axes>"
      ]
     },
     "metadata": {},
     "output_type": "display_data"
    }
   ],
   "source": [
    "sns.distplot(qset['qsets_normalized_tat']) \n",
    "qset['qsets_normalized_tat'].median()"
   ]
  },
  {
   "cell_type": "code",
   "execution_count": 17,
   "id": "50fd65e7-2509-409f-b88b-b141690fe36c",
   "metadata": {},
   "outputs": [],
   "source": [
    "geo['geo_score']=geo['geo_score'].fillna(geo['geo_score'].median())\n",
    "qset['qsets_normalized_tat']=qset['qsets_normalized_tat'].fillna(qset['qsets_normalized_tat'].median())"
   ]
  },
  {
   "cell_type": "code",
   "execution_count": 18,
   "id": "67fcbbd3-a6b3-41c7-aa6a-b54c7e0117ec",
   "metadata": {},
   "outputs": [
    {
     "name": "stdout",
     "output_type": "stream",
     "text": [
      "0\n",
      "0\n"
     ]
    }
   ],
   "source": [
    "print(geo['geo_score'].isna().sum())\n",
    "print(qset['qsets_normalized_tat'].isna().sum())"
   ]
  },
  {
   "cell_type": "code",
   "execution_count": 19,
   "id": "f892ebf3-f6e9-45e3-b49e-0950c7d44638",
   "metadata": {},
   "outputs": [
    {
     "name": "stdout",
     "output_type": "stream",
     "text": [
      "Index(['id', 'geo_score'], dtype='object')\n",
      "&&&&&&&&&&&&&&&&&&&&&&&&&&&&&&&&&&&&&&&**************************&&&&&&&&&&&&&&&&&&&&&&&&&&&&&&&&&&&&&&&&&\n",
      "Index(['id', 'instance_scores'], dtype='object')\n",
      "&&&&&&&&&&&&&&&&&&&&&&&&&&&&&&&&&&&&&&&**************************&&&&&&&&&&&&&&&&&&&&&&&&&&&&&&&&&&&&&&&&&\n",
      "Index(['Group', 'lambda_wt'], dtype='object')\n",
      "&&&&&&&&&&&&&&&&&&&&&&&&&&&&&&&&&&&&&&&**************************&&&&&&&&&&&&&&&&&&&&&&&&&&&&&&&&&&&&&&&&&\n",
      "Index(['id', 'qsets_normalized_tat'], dtype='object')\n",
      "&&&&&&&&&&&&&&&&&&&&&&&&&&&&&&&&&&&&&&&**************************&&&&&&&&&&&&&&&&&&&&&&&&&&&&&&&&&&&&&&&&&\n",
      "Index(['id', 'Group', 'Per1', 'Per2', 'Per3', 'Per4', 'Per5', 'Per6', 'Per7',\n",
      "       'Per8', 'Per9', 'Dem1', 'Dem2', 'Dem3', 'Dem4', 'Dem5', 'Dem6', 'Dem7',\n",
      "       'Dem8', 'Dem9', 'Cred1', 'Cred2', 'Cred3', 'Cred4', 'Cred5', 'Cred6',\n",
      "       'Normalised_FNT', 'from'],\n",
      "      dtype='object')\n",
      "&&&&&&&&&&&&&&&&&&&&&&&&&&&&&&&&&&&&&&&**************************&&&&&&&&&&&&&&&&&&&&&&&&&&&&&&&&&&&&&&&&&\n",
      "Index(['id', 'Group', 'Per1', 'Per2', 'Per3', 'Per4', 'Per5', 'Per6', 'Per7',\n",
      "       'Per8', 'Per9', 'Dem1', 'Dem2', 'Dem3', 'Dem4', 'Dem5', 'Dem6', 'Dem7',\n",
      "       'Dem8', 'Dem9', 'Cred1', 'Cred2', 'Cred3', 'Cred4', 'Cred5', 'Cred6',\n",
      "       'Normalised_FNT', 'Target', 'from'],\n",
      "      dtype='object')\n"
     ]
    }
   ],
   "source": [
    "print(geo.columns)\n",
    "print(\"&&&&&&&&&&&&&&&&&&&&&&&&&&&&&&&&&&&&&&&**************************&&&&&&&&&&&&&&&&&&&&&&&&&&&&&&&&&&&&&&&&&\")\n",
    "print(instance.columns)\n",
    "print(\"&&&&&&&&&&&&&&&&&&&&&&&&&&&&&&&&&&&&&&&**************************&&&&&&&&&&&&&&&&&&&&&&&&&&&&&&&&&&&&&&&&&\")\n",
    "print(lambdawts.columns)\n",
    "print(\"&&&&&&&&&&&&&&&&&&&&&&&&&&&&&&&&&&&&&&&**************************&&&&&&&&&&&&&&&&&&&&&&&&&&&&&&&&&&&&&&&&&\")\n",
    "print(qset.columns)\n",
    "print(\"&&&&&&&&&&&&&&&&&&&&&&&&&&&&&&&&&&&&&&&**************************&&&&&&&&&&&&&&&&&&&&&&&&&&&&&&&&&&&&&&&&&\")\n",
    "print(test_data.columns)\n",
    "print(\"&&&&&&&&&&&&&&&&&&&&&&&&&&&&&&&&&&&&&&&**************************&&&&&&&&&&&&&&&&&&&&&&&&&&&&&&&&&&&&&&&&&\")\n",
    "print(train_data.columns)"
   ]
  },
  {
   "cell_type": "code",
   "execution_count": 20,
   "id": "16decf75-f6df-4753-88f7-75e80a354b2d",
   "metadata": {},
   "outputs": [
    {
     "name": "stdout",
     "output_type": "stream",
     "text": [
      "284807\n",
      "1424035\n",
      "         id  geo_score\n",
      "52266     1       3.79\n",
      "1140856   1       0.18\n",
      "1163171   1      -1.72\n",
      "1266260   1      -6.72\n",
      "1422560   1      10.00\n"
     ]
    }
   ],
   "source": [
    "print(geo['id'].nunique())\n",
    "print(geo['id'].count())\n",
    "print(geo[geo['id']==1])"
   ]
  },
  {
   "cell_type": "code",
   "execution_count": 21,
   "id": "d0f2bd1f-9738-4cdc-ae3c-83fe99024997",
   "metadata": {},
   "outputs": [],
   "source": [
    "geo = geo.groupby('id').mean()"
   ]
  },
  {
   "cell_type": "code",
   "execution_count": 22,
   "id": "a008f43c-81bc-46e7-a140-2346cc309ae0",
   "metadata": {},
   "outputs": [
    {
     "data": {
      "text/plain": [
       "(284807, 1)"
      ]
     },
     "execution_count": 22,
     "metadata": {},
     "output_type": "execute_result"
    }
   ],
   "source": [
    "geo.shape"
   ]
  },
  {
   "cell_type": "code",
   "execution_count": 23,
   "id": "447162bf-95ef-4950-bff1-a58a84d0bbcc",
   "metadata": {},
   "outputs": [],
   "source": [
    "qset = qset.groupby('id').mean()"
   ]
  },
  {
   "cell_type": "code",
   "execution_count": 24,
   "id": "c4148a7a-2aa2-4048-b8b0-3525cf4d1fa5",
   "metadata": {},
   "outputs": [
    {
     "data": {
      "text/plain": [
       "(284807, 1)"
      ]
     },
     "execution_count": 24,
     "metadata": {},
     "output_type": "execute_result"
    }
   ],
   "source": [
    "qset.shape"
   ]
  },
  {
   "cell_type": "code",
   "execution_count": 25,
   "id": "c3af758a-a897-46ca-92a0-7bf818f9f42b",
   "metadata": {},
   "outputs": [
    {
     "data": {
      "text/plain": [
       "(1424035, 2)"
      ]
     },
     "execution_count": 25,
     "metadata": {},
     "output_type": "execute_result"
    }
   ],
   "source": [
    "instance.shape"
   ]
  },
  {
   "cell_type": "code",
   "execution_count": 26,
   "id": "eb20c709-efc2-4f2a-a7e8-aac165c04f6b",
   "metadata": {},
   "outputs": [
    {
     "data": {
      "text/plain": [
       "284807"
      ]
     },
     "execution_count": 26,
     "metadata": {},
     "output_type": "execute_result"
    }
   ],
   "source": [
    "instance['id'].nunique()"
   ]
  },
  {
   "cell_type": "code",
   "execution_count": 27,
   "id": "6bec672c-fc1d-4e6c-8bfa-c595b98d7274",
   "metadata": {},
   "outputs": [],
   "source": [
    "instance=instance.groupby('id').mean()"
   ]
  },
  {
   "cell_type": "code",
   "execution_count": 28,
   "id": "cc36bf6f-1db1-455b-b5c8-08ec45d2904b",
   "metadata": {},
   "outputs": [
    {
     "data": {
      "text/plain": [
       "(284807, 1)"
      ]
     },
     "execution_count": 28,
     "metadata": {},
     "output_type": "execute_result"
    }
   ],
   "source": [
    "instance.shape"
   ]
  },
  {
   "cell_type": "code",
   "execution_count": 29,
   "id": "d30e631b-928a-4f8f-9e40-a6834400078a",
   "metadata": {},
   "outputs": [
    {
     "data": {
      "text/plain": [
       "(1400, 2)"
      ]
     },
     "execution_count": 29,
     "metadata": {},
     "output_type": "execute_result"
    }
   ],
   "source": [
    "lambdawts.shape"
   ]
  },
  {
   "cell_type": "code",
   "execution_count": 30,
   "id": "361da36a-bec4-4ab8-b9ec-d667efb0eeb2",
   "metadata": {},
   "outputs": [],
   "source": [
    "Total_data=pd.merge(Total_data , geo, on='id', how='left')"
   ]
  },
  {
   "cell_type": "code",
   "execution_count": 31,
   "id": "91a0183f-1ad3-4b7e-a65a-334b81e99525",
   "metadata": {},
   "outputs": [
    {
     "data": {
      "text/html": [
       "<div>\n",
       "<style scoped>\n",
       "    .dataframe tbody tr th:only-of-type {\n",
       "        vertical-align: middle;\n",
       "    }\n",
       "\n",
       "    .dataframe tbody tr th {\n",
       "        vertical-align: top;\n",
       "    }\n",
       "\n",
       "    .dataframe thead th {\n",
       "        text-align: right;\n",
       "    }\n",
       "</style>\n",
       "<table border=\"1\" class=\"dataframe\">\n",
       "  <thead>\n",
       "    <tr style=\"text-align: right;\">\n",
       "      <th></th>\n",
       "      <th>id</th>\n",
       "      <th>Group</th>\n",
       "      <th>Per1</th>\n",
       "      <th>Per2</th>\n",
       "      <th>Per3</th>\n",
       "      <th>Per4</th>\n",
       "      <th>Per5</th>\n",
       "      <th>Per6</th>\n",
       "      <th>Per7</th>\n",
       "      <th>Per8</th>\n",
       "      <th>...</th>\n",
       "      <th>Cred1</th>\n",
       "      <th>Cred2</th>\n",
       "      <th>Cred3</th>\n",
       "      <th>Cred4</th>\n",
       "      <th>Cred5</th>\n",
       "      <th>Cred6</th>\n",
       "      <th>Normalised_FNT</th>\n",
       "      <th>Target</th>\n",
       "      <th>from</th>\n",
       "      <th>geo_score</th>\n",
       "    </tr>\n",
       "  </thead>\n",
       "  <tbody>\n",
       "    <tr>\n",
       "      <th>0</th>\n",
       "      <td>112751</td>\n",
       "      <td>Grp169</td>\n",
       "      <td>1.070000</td>\n",
       "      <td>0.580000</td>\n",
       "      <td>0.480000</td>\n",
       "      <td>0.766667</td>\n",
       "      <td>1.233333</td>\n",
       "      <td>1.993333</td>\n",
       "      <td>0.340000</td>\n",
       "      <td>1.010000</td>\n",
       "      <td>...</td>\n",
       "      <td>0.606667</td>\n",
       "      <td>1.010000</td>\n",
       "      <td>0.933333</td>\n",
       "      <td>0.603333</td>\n",
       "      <td>0.686667</td>\n",
       "      <td>0.673333</td>\n",
       "      <td>-245.7500</td>\n",
       "      <td>0.0</td>\n",
       "      <td>train</td>\n",
       "      <td>0.256</td>\n",
       "    </tr>\n",
       "    <tr>\n",
       "      <th>1</th>\n",
       "      <td>18495</td>\n",
       "      <td>Grp161</td>\n",
       "      <td>0.473333</td>\n",
       "      <td>1.206667</td>\n",
       "      <td>0.883333</td>\n",
       "      <td>1.430000</td>\n",
       "      <td>0.726667</td>\n",
       "      <td>0.626667</td>\n",
       "      <td>0.810000</td>\n",
       "      <td>0.783333</td>\n",
       "      <td>...</td>\n",
       "      <td>0.680000</td>\n",
       "      <td>0.690000</td>\n",
       "      <td>0.560000</td>\n",
       "      <td>0.670000</td>\n",
       "      <td>0.553333</td>\n",
       "      <td>0.653333</td>\n",
       "      <td>-248.0000</td>\n",
       "      <td>0.0</td>\n",
       "      <td>train</td>\n",
       "      <td>-0.250</td>\n",
       "    </tr>\n",
       "    <tr>\n",
       "      <th>2</th>\n",
       "      <td>23915</td>\n",
       "      <td>Grp261</td>\n",
       "      <td>1.130000</td>\n",
       "      <td>0.143333</td>\n",
       "      <td>0.946667</td>\n",
       "      <td>0.123333</td>\n",
       "      <td>0.080000</td>\n",
       "      <td>0.836667</td>\n",
       "      <td>0.056667</td>\n",
       "      <td>0.756667</td>\n",
       "      <td>...</td>\n",
       "      <td>0.600000</td>\n",
       "      <td>0.383333</td>\n",
       "      <td>0.763333</td>\n",
       "      <td>0.670000</td>\n",
       "      <td>0.686667</td>\n",
       "      <td>0.673333</td>\n",
       "      <td>-233.1250</td>\n",
       "      <td>0.0</td>\n",
       "      <td>train</td>\n",
       "      <td>-0.950</td>\n",
       "    </tr>\n",
       "    <tr>\n",
       "      <th>3</th>\n",
       "      <td>50806</td>\n",
       "      <td>Grp198</td>\n",
       "      <td>0.636667</td>\n",
       "      <td>1.090000</td>\n",
       "      <td>0.750000</td>\n",
       "      <td>0.940000</td>\n",
       "      <td>0.743333</td>\n",
       "      <td>0.346667</td>\n",
       "      <td>0.956667</td>\n",
       "      <td>0.633333</td>\n",
       "      <td>...</td>\n",
       "      <td>0.680000</td>\n",
       "      <td>0.846667</td>\n",
       "      <td>0.423333</td>\n",
       "      <td>0.520000</td>\n",
       "      <td>0.846667</td>\n",
       "      <td>0.760000</td>\n",
       "      <td>-249.7775</td>\n",
       "      <td>0.0</td>\n",
       "      <td>train</td>\n",
       "      <td>0.490</td>\n",
       "    </tr>\n",
       "    <tr>\n",
       "      <th>4</th>\n",
       "      <td>184244</td>\n",
       "      <td>Grp228</td>\n",
       "      <td>0.560000</td>\n",
       "      <td>1.013333</td>\n",
       "      <td>0.593333</td>\n",
       "      <td>0.416667</td>\n",
       "      <td>0.773333</td>\n",
       "      <td>0.460000</td>\n",
       "      <td>0.853333</td>\n",
       "      <td>0.796667</td>\n",
       "      <td>...</td>\n",
       "      <td>0.693333</td>\n",
       "      <td>0.526667</td>\n",
       "      <td>0.520000</td>\n",
       "      <td>0.716667</td>\n",
       "      <td>0.706667</td>\n",
       "      <td>0.673333</td>\n",
       "      <td>-247.5775</td>\n",
       "      <td>0.0</td>\n",
       "      <td>train</td>\n",
       "      <td>0.850</td>\n",
       "    </tr>\n",
       "  </tbody>\n",
       "</table>\n",
       "<p>5 rows × 30 columns</p>\n",
       "</div>"
      ],
      "text/plain": [
       "       id   Group      Per1      Per2      Per3      Per4      Per5      Per6  \\\n",
       "0  112751  Grp169  1.070000  0.580000  0.480000  0.766667  1.233333  1.993333   \n",
       "1   18495  Grp161  0.473333  1.206667  0.883333  1.430000  0.726667  0.626667   \n",
       "2   23915  Grp261  1.130000  0.143333  0.946667  0.123333  0.080000  0.836667   \n",
       "3   50806  Grp198  0.636667  1.090000  0.750000  0.940000  0.743333  0.346667   \n",
       "4  184244  Grp228  0.560000  1.013333  0.593333  0.416667  0.773333  0.460000   \n",
       "\n",
       "       Per7      Per8  ...     Cred1     Cred2     Cred3     Cred4     Cred5  \\\n",
       "0  0.340000  1.010000  ...  0.606667  1.010000  0.933333  0.603333  0.686667   \n",
       "1  0.810000  0.783333  ...  0.680000  0.690000  0.560000  0.670000  0.553333   \n",
       "2  0.056667  0.756667  ...  0.600000  0.383333  0.763333  0.670000  0.686667   \n",
       "3  0.956667  0.633333  ...  0.680000  0.846667  0.423333  0.520000  0.846667   \n",
       "4  0.853333  0.796667  ...  0.693333  0.526667  0.520000  0.716667  0.706667   \n",
       "\n",
       "      Cred6  Normalised_FNT  Target   from  geo_score  \n",
       "0  0.673333       -245.7500     0.0  train      0.256  \n",
       "1  0.653333       -248.0000     0.0  train     -0.250  \n",
       "2  0.673333       -233.1250     0.0  train     -0.950  \n",
       "3  0.760000       -249.7775     0.0  train      0.490  \n",
       "4  0.673333       -247.5775     0.0  train      0.850  \n",
       "\n",
       "[5 rows x 30 columns]"
      ]
     },
     "execution_count": 31,
     "metadata": {},
     "output_type": "execute_result"
    }
   ],
   "source": [
    "Total_data.head(5)"
   ]
  },
  {
   "cell_type": "code",
   "execution_count": 32,
   "id": "7f3e868b-8a38-4639-bf42-5e0ae5886968",
   "metadata": {},
   "outputs": [
    {
     "data": {
      "text/html": [
       "<div>\n",
       "<style scoped>\n",
       "    .dataframe tbody tr th:only-of-type {\n",
       "        vertical-align: middle;\n",
       "    }\n",
       "\n",
       "    .dataframe tbody tr th {\n",
       "        vertical-align: top;\n",
       "    }\n",
       "\n",
       "    .dataframe thead th {\n",
       "        text-align: right;\n",
       "    }\n",
       "</style>\n",
       "<table border=\"1\" class=\"dataframe\">\n",
       "  <thead>\n",
       "    <tr style=\"text-align: right;\">\n",
       "      <th></th>\n",
       "      <th>instance_scores</th>\n",
       "    </tr>\n",
       "    <tr>\n",
       "      <th>id</th>\n",
       "      <th></th>\n",
       "    </tr>\n",
       "  </thead>\n",
       "  <tbody>\n",
       "    <tr>\n",
       "      <th>0</th>\n",
       "      <td>0.09</td>\n",
       "    </tr>\n",
       "    <tr>\n",
       "      <th>1</th>\n",
       "      <td>-0.17</td>\n",
       "    </tr>\n",
       "    <tr>\n",
       "      <th>2</th>\n",
       "      <td>0.21</td>\n",
       "    </tr>\n",
       "    <tr>\n",
       "      <th>3</th>\n",
       "      <td>-0.05</td>\n",
       "    </tr>\n",
       "    <tr>\n",
       "      <th>4</th>\n",
       "      <td>0.75</td>\n",
       "    </tr>\n",
       "  </tbody>\n",
       "</table>\n",
       "</div>"
      ],
      "text/plain": [
       "    instance_scores\n",
       "id                 \n",
       "0              0.09\n",
       "1             -0.17\n",
       "2              0.21\n",
       "3             -0.05\n",
       "4              0.75"
      ]
     },
     "execution_count": 32,
     "metadata": {},
     "output_type": "execute_result"
    }
   ],
   "source": [
    "instance.head()"
   ]
  },
  {
   "cell_type": "code",
   "execution_count": 33,
   "id": "a0a87d4c-5f8a-492b-8276-f08a2ffed859",
   "metadata": {},
   "outputs": [],
   "source": [
    "Total_data=pd.merge(Total_data , instance, on='id', how='left')"
   ]
  },
  {
   "cell_type": "code",
   "execution_count": 34,
   "id": "99e63956-64b0-480c-93ce-a20c48eebc9d",
   "metadata": {},
   "outputs": [
    {
     "data": {
      "text/html": [
       "<div>\n",
       "<style scoped>\n",
       "    .dataframe tbody tr th:only-of-type {\n",
       "        vertical-align: middle;\n",
       "    }\n",
       "\n",
       "    .dataframe tbody tr th {\n",
       "        vertical-align: top;\n",
       "    }\n",
       "\n",
       "    .dataframe thead th {\n",
       "        text-align: right;\n",
       "    }\n",
       "</style>\n",
       "<table border=\"1\" class=\"dataframe\">\n",
       "  <thead>\n",
       "    <tr style=\"text-align: right;\">\n",
       "      <th></th>\n",
       "      <th>id</th>\n",
       "      <th>Group</th>\n",
       "      <th>Per1</th>\n",
       "      <th>Per2</th>\n",
       "      <th>Per3</th>\n",
       "      <th>Per4</th>\n",
       "      <th>Per5</th>\n",
       "      <th>Per6</th>\n",
       "      <th>Per7</th>\n",
       "      <th>Per8</th>\n",
       "      <th>...</th>\n",
       "      <th>Cred2</th>\n",
       "      <th>Cred3</th>\n",
       "      <th>Cred4</th>\n",
       "      <th>Cred5</th>\n",
       "      <th>Cred6</th>\n",
       "      <th>Normalised_FNT</th>\n",
       "      <th>Target</th>\n",
       "      <th>from</th>\n",
       "      <th>geo_score</th>\n",
       "      <th>instance_scores</th>\n",
       "    </tr>\n",
       "  </thead>\n",
       "  <tbody>\n",
       "    <tr>\n",
       "      <th>0</th>\n",
       "      <td>112751</td>\n",
       "      <td>Grp169</td>\n",
       "      <td>1.070000</td>\n",
       "      <td>0.580000</td>\n",
       "      <td>0.480000</td>\n",
       "      <td>0.766667</td>\n",
       "      <td>1.233333</td>\n",
       "      <td>1.993333</td>\n",
       "      <td>0.340000</td>\n",
       "      <td>1.010000</td>\n",
       "      <td>...</td>\n",
       "      <td>1.010000</td>\n",
       "      <td>0.933333</td>\n",
       "      <td>0.603333</td>\n",
       "      <td>0.686667</td>\n",
       "      <td>0.673333</td>\n",
       "      <td>-245.7500</td>\n",
       "      <td>0.0</td>\n",
       "      <td>train</td>\n",
       "      <td>0.256</td>\n",
       "      <td>-0.06</td>\n",
       "    </tr>\n",
       "    <tr>\n",
       "      <th>1</th>\n",
       "      <td>18495</td>\n",
       "      <td>Grp161</td>\n",
       "      <td>0.473333</td>\n",
       "      <td>1.206667</td>\n",
       "      <td>0.883333</td>\n",
       "      <td>1.430000</td>\n",
       "      <td>0.726667</td>\n",
       "      <td>0.626667</td>\n",
       "      <td>0.810000</td>\n",
       "      <td>0.783333</td>\n",
       "      <td>...</td>\n",
       "      <td>0.690000</td>\n",
       "      <td>0.560000</td>\n",
       "      <td>0.670000</td>\n",
       "      <td>0.553333</td>\n",
       "      <td>0.653333</td>\n",
       "      <td>-248.0000</td>\n",
       "      <td>0.0</td>\n",
       "      <td>train</td>\n",
       "      <td>-0.250</td>\n",
       "      <td>0.52</td>\n",
       "    </tr>\n",
       "    <tr>\n",
       "      <th>2</th>\n",
       "      <td>23915</td>\n",
       "      <td>Grp261</td>\n",
       "      <td>1.130000</td>\n",
       "      <td>0.143333</td>\n",
       "      <td>0.946667</td>\n",
       "      <td>0.123333</td>\n",
       "      <td>0.080000</td>\n",
       "      <td>0.836667</td>\n",
       "      <td>0.056667</td>\n",
       "      <td>0.756667</td>\n",
       "      <td>...</td>\n",
       "      <td>0.383333</td>\n",
       "      <td>0.763333</td>\n",
       "      <td>0.670000</td>\n",
       "      <td>0.686667</td>\n",
       "      <td>0.673333</td>\n",
       "      <td>-233.1250</td>\n",
       "      <td>0.0</td>\n",
       "      <td>train</td>\n",
       "      <td>-0.950</td>\n",
       "      <td>1.56</td>\n",
       "    </tr>\n",
       "    <tr>\n",
       "      <th>3</th>\n",
       "      <td>50806</td>\n",
       "      <td>Grp198</td>\n",
       "      <td>0.636667</td>\n",
       "      <td>1.090000</td>\n",
       "      <td>0.750000</td>\n",
       "      <td>0.940000</td>\n",
       "      <td>0.743333</td>\n",
       "      <td>0.346667</td>\n",
       "      <td>0.956667</td>\n",
       "      <td>0.633333</td>\n",
       "      <td>...</td>\n",
       "      <td>0.846667</td>\n",
       "      <td>0.423333</td>\n",
       "      <td>0.520000</td>\n",
       "      <td>0.846667</td>\n",
       "      <td>0.760000</td>\n",
       "      <td>-249.7775</td>\n",
       "      <td>0.0</td>\n",
       "      <td>train</td>\n",
       "      <td>0.490</td>\n",
       "      <td>0.70</td>\n",
       "    </tr>\n",
       "    <tr>\n",
       "      <th>4</th>\n",
       "      <td>184244</td>\n",
       "      <td>Grp228</td>\n",
       "      <td>0.560000</td>\n",
       "      <td>1.013333</td>\n",
       "      <td>0.593333</td>\n",
       "      <td>0.416667</td>\n",
       "      <td>0.773333</td>\n",
       "      <td>0.460000</td>\n",
       "      <td>0.853333</td>\n",
       "      <td>0.796667</td>\n",
       "      <td>...</td>\n",
       "      <td>0.526667</td>\n",
       "      <td>0.520000</td>\n",
       "      <td>0.716667</td>\n",
       "      <td>0.706667</td>\n",
       "      <td>0.673333</td>\n",
       "      <td>-247.5775</td>\n",
       "      <td>0.0</td>\n",
       "      <td>train</td>\n",
       "      <td>0.850</td>\n",
       "      <td>-0.47</td>\n",
       "    </tr>\n",
       "  </tbody>\n",
       "</table>\n",
       "<p>5 rows × 31 columns</p>\n",
       "</div>"
      ],
      "text/plain": [
       "       id   Group      Per1      Per2      Per3      Per4      Per5      Per6  \\\n",
       "0  112751  Grp169  1.070000  0.580000  0.480000  0.766667  1.233333  1.993333   \n",
       "1   18495  Grp161  0.473333  1.206667  0.883333  1.430000  0.726667  0.626667   \n",
       "2   23915  Grp261  1.130000  0.143333  0.946667  0.123333  0.080000  0.836667   \n",
       "3   50806  Grp198  0.636667  1.090000  0.750000  0.940000  0.743333  0.346667   \n",
       "4  184244  Grp228  0.560000  1.013333  0.593333  0.416667  0.773333  0.460000   \n",
       "\n",
       "       Per7      Per8  ...     Cred2     Cred3     Cred4     Cred5     Cred6  \\\n",
       "0  0.340000  1.010000  ...  1.010000  0.933333  0.603333  0.686667  0.673333   \n",
       "1  0.810000  0.783333  ...  0.690000  0.560000  0.670000  0.553333  0.653333   \n",
       "2  0.056667  0.756667  ...  0.383333  0.763333  0.670000  0.686667  0.673333   \n",
       "3  0.956667  0.633333  ...  0.846667  0.423333  0.520000  0.846667  0.760000   \n",
       "4  0.853333  0.796667  ...  0.526667  0.520000  0.716667  0.706667  0.673333   \n",
       "\n",
       "   Normalised_FNT  Target   from  geo_score  instance_scores  \n",
       "0       -245.7500     0.0  train      0.256            -0.06  \n",
       "1       -248.0000     0.0  train     -0.250             0.52  \n",
       "2       -233.1250     0.0  train     -0.950             1.56  \n",
       "3       -249.7775     0.0  train      0.490             0.70  \n",
       "4       -247.5775     0.0  train      0.850            -0.47  \n",
       "\n",
       "[5 rows x 31 columns]"
      ]
     },
     "execution_count": 34,
     "metadata": {},
     "output_type": "execute_result"
    }
   ],
   "source": [
    "Total_data.head()"
   ]
  },
  {
   "cell_type": "code",
   "execution_count": 35,
   "id": "a51ec02b-3d1f-4ca3-b9fb-0b2bda6276f6",
   "metadata": {},
   "outputs": [
    {
     "name": "stdout",
     "output_type": "stream",
     "text": [
      "    qsets_normalized_tat\n",
      "id                      \n",
      "0                  0.214\n",
      "1                 -0.110\n",
      "2                  1.110\n",
      "3                 -0.676\n",
      "4                 -0.240\n"
     ]
    },
    {
     "data": {
      "text/plain": [
       "(284807, 1)"
      ]
     },
     "execution_count": 35,
     "metadata": {},
     "output_type": "execute_result"
    }
   ],
   "source": [
    "print(qset.head())\n",
    "qset.shape"
   ]
  },
  {
   "cell_type": "code",
   "execution_count": 36,
   "id": "505c3775-c615-4258-8deb-8ea3c24d32cf",
   "metadata": {},
   "outputs": [],
   "source": [
    "Total_data=pd.merge(Total_data , qset, on='id', how='left')"
   ]
  },
  {
   "cell_type": "code",
   "execution_count": 37,
   "id": "224efab4-032f-4e24-b6e8-8ded3312b96f",
   "metadata": {},
   "outputs": [
    {
     "name": "stdout",
     "output_type": "stream",
     "text": [
      "(284807,)\n",
      "1400\n"
     ]
    },
    {
     "data": {
      "text/plain": [
       "0    Grp169\n",
       "1    Grp161\n",
       "2    Grp261\n",
       "3    Grp198\n",
       "4    Grp228\n",
       "Name: Group, dtype: object"
      ]
     },
     "execution_count": 37,
     "metadata": {},
     "output_type": "execute_result"
    }
   ],
   "source": [
    "print(Total_data['Group'].shape)\n",
    "print(Total_data['Group'].nunique())\n",
    "Total_data['Group'].head()"
   ]
  },
  {
   "cell_type": "code",
   "execution_count": 38,
   "id": "03120e91-c380-40a8-a203-17cf60983e94",
   "metadata": {},
   "outputs": [
    {
     "data": {
      "text/plain": [
       "1400"
      ]
     },
     "execution_count": 38,
     "metadata": {},
     "output_type": "execute_result"
    }
   ],
   "source": [
    "lambdawts['Group'].nunique()"
   ]
  },
  {
   "cell_type": "code",
   "execution_count": 39,
   "id": "dbe39234-fb00-4941-a5fa-6a9db10cce1a",
   "metadata": {},
   "outputs": [],
   "source": [
    "Total_data=pd.merge(Total_data , lambdawts, on='Group', how='left')"
   ]
  },
  {
   "cell_type": "code",
   "execution_count": 40,
   "id": "c757ed49-0110-4cff-b09e-9324567b5f0c",
   "metadata": {},
   "outputs": [
    {
     "data": {
      "text/plain": [
       "1400"
      ]
     },
     "execution_count": 40,
     "metadata": {},
     "output_type": "execute_result"
    }
   ],
   "source": [
    "Total_data['lambda_wt'].nunique()"
   ]
  },
  {
   "cell_type": "code",
   "execution_count": 41,
   "id": "2c6009d1-84b9-4d92-a2db-3c485a9801d9",
   "metadata": {},
   "outputs": [
    {
     "data": {
      "text/plain": [
       "284807"
      ]
     },
     "execution_count": 41,
     "metadata": {},
     "output_type": "execute_result"
    }
   ],
   "source": [
    "Total_data['lambda_wt'].count()"
   ]
  },
  {
   "cell_type": "code",
   "execution_count": 42,
   "id": "e0ba028e-2628-44a0-812f-d24492f5cf08",
   "metadata": {},
   "outputs": [
    {
     "data": {
      "text/plain": [
       "id                          0\n",
       "Group                       0\n",
       "Per1                        0\n",
       "Per2                        0\n",
       "Per3                        0\n",
       "Per4                        0\n",
       "Per5                        0\n",
       "Per6                        0\n",
       "Per7                        0\n",
       "Per8                        0\n",
       "Per9                        0\n",
       "Dem1                        0\n",
       "Dem2                        0\n",
       "Dem3                        0\n",
       "Dem4                        0\n",
       "Dem5                        0\n",
       "Dem6                        0\n",
       "Dem7                        0\n",
       "Dem8                        0\n",
       "Dem9                        0\n",
       "Cred1                       0\n",
       "Cred2                       0\n",
       "Cred3                       0\n",
       "Cred4                       0\n",
       "Cred5                       0\n",
       "Cred6                       0\n",
       "Normalised_FNT              0\n",
       "Target                  56962\n",
       "from                        0\n",
       "geo_score                   0\n",
       "instance_scores             0\n",
       "qsets_normalized_tat        0\n",
       "lambda_wt                   0\n",
       "dtype: int64"
      ]
     },
     "execution_count": 42,
     "metadata": {},
     "output_type": "execute_result"
    }
   ],
   "source": [
    "Total_data.isna().sum()"
   ]
  },
  {
   "cell_type": "markdown",
   "id": "48e72332-b360-4945-b811-3d0d36713771",
   "metadata": {},
   "source": [
    "# EDA- Exploratory Data Analysis"
   ]
  },
  {
   "cell_type": "code",
   "execution_count": 43,
   "id": "4a1f961e-d5aa-4af9-b81c-1fd2c7e571e1",
   "metadata": {},
   "outputs": [],
   "source": [
    "Train_data=Total_data[Total_data['from']=='train']"
   ]
  },
  {
   "cell_type": "code",
   "execution_count": 44,
   "id": "5fefbdbf-337a-4e13-ad60-cbe36d3b2908",
   "metadata": {},
   "outputs": [],
   "source": [
    "Test_data=Total_data[Total_data['from']=='test']"
   ]
  },
  {
   "cell_type": "code",
   "execution_count": 45,
   "id": "3e5d69eb-5b23-425d-8fa3-79655eff2c3d",
   "metadata": {},
   "outputs": [],
   "source": [
    "Train_data.drop(['id','from',\"Group\"],axis=1,inplace=True)"
   ]
  },
  {
   "cell_type": "code",
   "execution_count": 46,
   "id": "171ac814-ca5b-4dd5-a33a-8d13d2df6d59",
   "metadata": {},
   "outputs": [
    {
     "data": {
      "text/html": [
       "<div>\n",
       "<style scoped>\n",
       "    .dataframe tbody tr th:only-of-type {\n",
       "        vertical-align: middle;\n",
       "    }\n",
       "\n",
       "    .dataframe tbody tr th {\n",
       "        vertical-align: top;\n",
       "    }\n",
       "\n",
       "    .dataframe thead th {\n",
       "        text-align: right;\n",
       "    }\n",
       "</style>\n",
       "<table border=\"1\" class=\"dataframe\">\n",
       "  <thead>\n",
       "    <tr style=\"text-align: right;\">\n",
       "      <th></th>\n",
       "      <th>Per1</th>\n",
       "      <th>Per2</th>\n",
       "      <th>Per3</th>\n",
       "      <th>Per4</th>\n",
       "      <th>Per5</th>\n",
       "      <th>Per6</th>\n",
       "      <th>Per7</th>\n",
       "      <th>Per8</th>\n",
       "      <th>Per9</th>\n",
       "      <th>Dem1</th>\n",
       "      <th>...</th>\n",
       "      <th>Cred3</th>\n",
       "      <th>Cred4</th>\n",
       "      <th>Cred5</th>\n",
       "      <th>Cred6</th>\n",
       "      <th>Normalised_FNT</th>\n",
       "      <th>Target</th>\n",
       "      <th>geo_score</th>\n",
       "      <th>instance_scores</th>\n",
       "      <th>qsets_normalized_tat</th>\n",
       "      <th>lambda_wt</th>\n",
       "    </tr>\n",
       "  </thead>\n",
       "  <tbody>\n",
       "    <tr>\n",
       "      <th>0</th>\n",
       "      <td>1.070000</td>\n",
       "      <td>0.580000</td>\n",
       "      <td>0.480000</td>\n",
       "      <td>0.766667</td>\n",
       "      <td>1.233333</td>\n",
       "      <td>1.993333</td>\n",
       "      <td>0.340000</td>\n",
       "      <td>1.010000</td>\n",
       "      <td>0.863333</td>\n",
       "      <td>0.460000</td>\n",
       "      <td>...</td>\n",
       "      <td>0.933333</td>\n",
       "      <td>0.603333</td>\n",
       "      <td>0.686667</td>\n",
       "      <td>0.673333</td>\n",
       "      <td>-245.7500</td>\n",
       "      <td>0.0</td>\n",
       "      <td>0.256</td>\n",
       "      <td>-0.06</td>\n",
       "      <td>-0.700</td>\n",
       "      <td>-0.13</td>\n",
       "    </tr>\n",
       "    <tr>\n",
       "      <th>1</th>\n",
       "      <td>0.473333</td>\n",
       "      <td>1.206667</td>\n",
       "      <td>0.883333</td>\n",
       "      <td>1.430000</td>\n",
       "      <td>0.726667</td>\n",
       "      <td>0.626667</td>\n",
       "      <td>0.810000</td>\n",
       "      <td>0.783333</td>\n",
       "      <td>0.190000</td>\n",
       "      <td>0.470000</td>\n",
       "      <td>...</td>\n",
       "      <td>0.560000</td>\n",
       "      <td>0.670000</td>\n",
       "      <td>0.553333</td>\n",
       "      <td>0.653333</td>\n",
       "      <td>-248.0000</td>\n",
       "      <td>0.0</td>\n",
       "      <td>-0.250</td>\n",
       "      <td>0.52</td>\n",
       "      <td>0.140</td>\n",
       "      <td>0.66</td>\n",
       "    </tr>\n",
       "    <tr>\n",
       "      <th>2</th>\n",
       "      <td>1.130000</td>\n",
       "      <td>0.143333</td>\n",
       "      <td>0.946667</td>\n",
       "      <td>0.123333</td>\n",
       "      <td>0.080000</td>\n",
       "      <td>0.836667</td>\n",
       "      <td>0.056667</td>\n",
       "      <td>0.756667</td>\n",
       "      <td>0.226667</td>\n",
       "      <td>0.660000</td>\n",
       "      <td>...</td>\n",
       "      <td>0.763333</td>\n",
       "      <td>0.670000</td>\n",
       "      <td>0.686667</td>\n",
       "      <td>0.673333</td>\n",
       "      <td>-233.1250</td>\n",
       "      <td>0.0</td>\n",
       "      <td>-0.950</td>\n",
       "      <td>1.56</td>\n",
       "      <td>-0.430</td>\n",
       "      <td>-0.51</td>\n",
       "    </tr>\n",
       "    <tr>\n",
       "      <th>3</th>\n",
       "      <td>0.636667</td>\n",
       "      <td>1.090000</td>\n",
       "      <td>0.750000</td>\n",
       "      <td>0.940000</td>\n",
       "      <td>0.743333</td>\n",
       "      <td>0.346667</td>\n",
       "      <td>0.956667</td>\n",
       "      <td>0.633333</td>\n",
       "      <td>0.486667</td>\n",
       "      <td>1.096667</td>\n",
       "      <td>...</td>\n",
       "      <td>0.423333</td>\n",
       "      <td>0.520000</td>\n",
       "      <td>0.846667</td>\n",
       "      <td>0.760000</td>\n",
       "      <td>-249.7775</td>\n",
       "      <td>0.0</td>\n",
       "      <td>0.490</td>\n",
       "      <td>0.70</td>\n",
       "      <td>-0.302</td>\n",
       "      <td>0.72</td>\n",
       "    </tr>\n",
       "    <tr>\n",
       "      <th>4</th>\n",
       "      <td>0.560000</td>\n",
       "      <td>1.013333</td>\n",
       "      <td>0.593333</td>\n",
       "      <td>0.416667</td>\n",
       "      <td>0.773333</td>\n",
       "      <td>0.460000</td>\n",
       "      <td>0.853333</td>\n",
       "      <td>0.796667</td>\n",
       "      <td>0.516667</td>\n",
       "      <td>0.756667</td>\n",
       "      <td>...</td>\n",
       "      <td>0.520000</td>\n",
       "      <td>0.716667</td>\n",
       "      <td>0.706667</td>\n",
       "      <td>0.673333</td>\n",
       "      <td>-247.5775</td>\n",
       "      <td>0.0</td>\n",
       "      <td>0.850</td>\n",
       "      <td>-0.47</td>\n",
       "      <td>-0.630</td>\n",
       "      <td>0.60</td>\n",
       "    </tr>\n",
       "    <tr>\n",
       "      <th>...</th>\n",
       "      <td>...</td>\n",
       "      <td>...</td>\n",
       "      <td>...</td>\n",
       "      <td>...</td>\n",
       "      <td>...</td>\n",
       "      <td>...</td>\n",
       "      <td>...</td>\n",
       "      <td>...</td>\n",
       "      <td>...</td>\n",
       "      <td>...</td>\n",
       "      <td>...</td>\n",
       "      <td>...</td>\n",
       "      <td>...</td>\n",
       "      <td>...</td>\n",
       "      <td>...</td>\n",
       "      <td>...</td>\n",
       "      <td>...</td>\n",
       "      <td>...</td>\n",
       "      <td>...</td>\n",
       "      <td>...</td>\n",
       "      <td>...</td>\n",
       "    </tr>\n",
       "    <tr>\n",
       "      <th>227840</th>\n",
       "      <td>0.476667</td>\n",
       "      <td>1.013333</td>\n",
       "      <td>0.536667</td>\n",
       "      <td>0.576667</td>\n",
       "      <td>1.406667</td>\n",
       "      <td>1.846667</td>\n",
       "      <td>0.600000</td>\n",
       "      <td>1.103333</td>\n",
       "      <td>0.356667</td>\n",
       "      <td>0.530000</td>\n",
       "      <td>...</td>\n",
       "      <td>0.646667</td>\n",
       "      <td>0.533333</td>\n",
       "      <td>0.680000</td>\n",
       "      <td>0.693333</td>\n",
       "      <td>-246.5025</td>\n",
       "      <td>0.0</td>\n",
       "      <td>-0.140</td>\n",
       "      <td>-0.44</td>\n",
       "      <td>-0.546</td>\n",
       "      <td>0.75</td>\n",
       "    </tr>\n",
       "    <tr>\n",
       "      <th>227841</th>\n",
       "      <td>1.363333</td>\n",
       "      <td>0.730000</td>\n",
       "      <td>0.060000</td>\n",
       "      <td>0.776667</td>\n",
       "      <td>0.883333</td>\n",
       "      <td>0.466667</td>\n",
       "      <td>0.733333</td>\n",
       "      <td>0.590000</td>\n",
       "      <td>0.806667</td>\n",
       "      <td>0.436667</td>\n",
       "      <td>...</td>\n",
       "      <td>0.596667</td>\n",
       "      <td>0.730000</td>\n",
       "      <td>0.646667</td>\n",
       "      <td>0.656667</td>\n",
       "      <td>-249.7775</td>\n",
       "      <td>0.0</td>\n",
       "      <td>0.426</td>\n",
       "      <td>-0.40</td>\n",
       "      <td>0.384</td>\n",
       "      <td>-0.98</td>\n",
       "    </tr>\n",
       "    <tr>\n",
       "      <th>227842</th>\n",
       "      <td>1.060000</td>\n",
       "      <td>0.756667</td>\n",
       "      <td>0.906667</td>\n",
       "      <td>0.896667</td>\n",
       "      <td>0.503333</td>\n",
       "      <td>0.396667</td>\n",
       "      <td>0.683333</td>\n",
       "      <td>0.620000</td>\n",
       "      <td>0.630000</td>\n",
       "      <td>0.870000</td>\n",
       "      <td>...</td>\n",
       "      <td>0.700000</td>\n",
       "      <td>0.696667</td>\n",
       "      <td>0.663333</td>\n",
       "      <td>0.673333</td>\n",
       "      <td>-249.7775</td>\n",
       "      <td>0.0</td>\n",
       "      <td>1.066</td>\n",
       "      <td>-0.13</td>\n",
       "      <td>0.010</td>\n",
       "      <td>0.15</td>\n",
       "    </tr>\n",
       "    <tr>\n",
       "      <th>227843</th>\n",
       "      <td>0.433333</td>\n",
       "      <td>1.013333</td>\n",
       "      <td>1.163333</td>\n",
       "      <td>0.940000</td>\n",
       "      <td>0.930000</td>\n",
       "      <td>0.900000</td>\n",
       "      <td>0.813333</td>\n",
       "      <td>0.720000</td>\n",
       "      <td>1.020000</td>\n",
       "      <td>0.413333</td>\n",
       "      <td>...</td>\n",
       "      <td>0.906667</td>\n",
       "      <td>0.540000</td>\n",
       "      <td>0.766667</td>\n",
       "      <td>0.710000</td>\n",
       "      <td>-242.7500</td>\n",
       "      <td>0.0</td>\n",
       "      <td>-3.290</td>\n",
       "      <td>-0.66</td>\n",
       "      <td>0.384</td>\n",
       "      <td>1.53</td>\n",
       "    </tr>\n",
       "    <tr>\n",
       "      <th>227844</th>\n",
       "      <td>1.006667</td>\n",
       "      <td>0.553333</td>\n",
       "      <td>0.946667</td>\n",
       "      <td>1.206667</td>\n",
       "      <td>0.406667</td>\n",
       "      <td>0.750000</td>\n",
       "      <td>0.520000</td>\n",
       "      <td>0.756667</td>\n",
       "      <td>1.053333</td>\n",
       "      <td>0.273333</td>\n",
       "      <td>...</td>\n",
       "      <td>0.843333</td>\n",
       "      <td>0.580000</td>\n",
       "      <td>0.683333</td>\n",
       "      <td>0.676667</td>\n",
       "      <td>-235.0000</td>\n",
       "      <td>0.0</td>\n",
       "      <td>-0.360</td>\n",
       "      <td>-0.22</td>\n",
       "      <td>0.550</td>\n",
       "      <td>0.00</td>\n",
       "    </tr>\n",
       "  </tbody>\n",
       "</table>\n",
       "<p>227845 rows × 30 columns</p>\n",
       "</div>"
      ],
      "text/plain": [
       "            Per1      Per2      Per3      Per4      Per5      Per6      Per7  \\\n",
       "0       1.070000  0.580000  0.480000  0.766667  1.233333  1.993333  0.340000   \n",
       "1       0.473333  1.206667  0.883333  1.430000  0.726667  0.626667  0.810000   \n",
       "2       1.130000  0.143333  0.946667  0.123333  0.080000  0.836667  0.056667   \n",
       "3       0.636667  1.090000  0.750000  0.940000  0.743333  0.346667  0.956667   \n",
       "4       0.560000  1.013333  0.593333  0.416667  0.773333  0.460000  0.853333   \n",
       "...          ...       ...       ...       ...       ...       ...       ...   \n",
       "227840  0.476667  1.013333  0.536667  0.576667  1.406667  1.846667  0.600000   \n",
       "227841  1.363333  0.730000  0.060000  0.776667  0.883333  0.466667  0.733333   \n",
       "227842  1.060000  0.756667  0.906667  0.896667  0.503333  0.396667  0.683333   \n",
       "227843  0.433333  1.013333  1.163333  0.940000  0.930000  0.900000  0.813333   \n",
       "227844  1.006667  0.553333  0.946667  1.206667  0.406667  0.750000  0.520000   \n",
       "\n",
       "            Per8      Per9      Dem1  ...     Cred3     Cred4     Cred5  \\\n",
       "0       1.010000  0.863333  0.460000  ...  0.933333  0.603333  0.686667   \n",
       "1       0.783333  0.190000  0.470000  ...  0.560000  0.670000  0.553333   \n",
       "2       0.756667  0.226667  0.660000  ...  0.763333  0.670000  0.686667   \n",
       "3       0.633333  0.486667  1.096667  ...  0.423333  0.520000  0.846667   \n",
       "4       0.796667  0.516667  0.756667  ...  0.520000  0.716667  0.706667   \n",
       "...          ...       ...       ...  ...       ...       ...       ...   \n",
       "227840  1.103333  0.356667  0.530000  ...  0.646667  0.533333  0.680000   \n",
       "227841  0.590000  0.806667  0.436667  ...  0.596667  0.730000  0.646667   \n",
       "227842  0.620000  0.630000  0.870000  ...  0.700000  0.696667  0.663333   \n",
       "227843  0.720000  1.020000  0.413333  ...  0.906667  0.540000  0.766667   \n",
       "227844  0.756667  1.053333  0.273333  ...  0.843333  0.580000  0.683333   \n",
       "\n",
       "           Cred6  Normalised_FNT  Target  geo_score  instance_scores  \\\n",
       "0       0.673333       -245.7500     0.0      0.256            -0.06   \n",
       "1       0.653333       -248.0000     0.0     -0.250             0.52   \n",
       "2       0.673333       -233.1250     0.0     -0.950             1.56   \n",
       "3       0.760000       -249.7775     0.0      0.490             0.70   \n",
       "4       0.673333       -247.5775     0.0      0.850            -0.47   \n",
       "...          ...             ...     ...        ...              ...   \n",
       "227840  0.693333       -246.5025     0.0     -0.140            -0.44   \n",
       "227841  0.656667       -249.7775     0.0      0.426            -0.40   \n",
       "227842  0.673333       -249.7775     0.0      1.066            -0.13   \n",
       "227843  0.710000       -242.7500     0.0     -3.290            -0.66   \n",
       "227844  0.676667       -235.0000     0.0     -0.360            -0.22   \n",
       "\n",
       "        qsets_normalized_tat  lambda_wt  \n",
       "0                     -0.700      -0.13  \n",
       "1                      0.140       0.66  \n",
       "2                     -0.430      -0.51  \n",
       "3                     -0.302       0.72  \n",
       "4                     -0.630       0.60  \n",
       "...                      ...        ...  \n",
       "227840                -0.546       0.75  \n",
       "227841                 0.384      -0.98  \n",
       "227842                 0.010       0.15  \n",
       "227843                 0.384       1.53  \n",
       "227844                 0.550       0.00  \n",
       "\n",
       "[227845 rows x 30 columns]"
      ]
     },
     "execution_count": 46,
     "metadata": {},
     "output_type": "execute_result"
    }
   ],
   "source": [
    "Train_data"
   ]
  },
  {
   "cell_type": "code",
   "execution_count": 48,
   "id": "53796580-0b42-4d5f-8dcf-9c5b61ae6049",
   "metadata": {},
   "outputs": [],
   "source": [
    "Test_data.drop(['id','from','Group','Target'],axis=1,inplace=True)"
   ]
  },
  {
   "cell_type": "code",
   "execution_count": 49,
   "id": "c08dc170-a5b5-4b96-9417-fa647c8e28fd",
   "metadata": {},
   "outputs": [
    {
     "data": {
      "text/html": [
       "<div>\n",
       "<style scoped>\n",
       "    .dataframe tbody tr th:only-of-type {\n",
       "        vertical-align: middle;\n",
       "    }\n",
       "\n",
       "    .dataframe tbody tr th {\n",
       "        vertical-align: top;\n",
       "    }\n",
       "\n",
       "    .dataframe thead th {\n",
       "        text-align: right;\n",
       "    }\n",
       "</style>\n",
       "<table border=\"1\" class=\"dataframe\">\n",
       "  <thead>\n",
       "    <tr style=\"text-align: right;\">\n",
       "      <th></th>\n",
       "      <th>Per1</th>\n",
       "      <th>Per2</th>\n",
       "      <th>Per3</th>\n",
       "      <th>Per4</th>\n",
       "      <th>Per5</th>\n",
       "      <th>Per6</th>\n",
       "      <th>Per7</th>\n",
       "      <th>Per8</th>\n",
       "      <th>Per9</th>\n",
       "      <th>Dem1</th>\n",
       "      <th>...</th>\n",
       "      <th>Cred2</th>\n",
       "      <th>Cred3</th>\n",
       "      <th>Cred4</th>\n",
       "      <th>Cred5</th>\n",
       "      <th>Cred6</th>\n",
       "      <th>Normalised_FNT</th>\n",
       "      <th>geo_score</th>\n",
       "      <th>instance_scores</th>\n",
       "      <th>qsets_normalized_tat</th>\n",
       "      <th>lambda_wt</th>\n",
       "    </tr>\n",
       "  </thead>\n",
       "  <tbody>\n",
       "    <tr>\n",
       "      <th>227845</th>\n",
       "      <td>-0.300000</td>\n",
       "      <td>1.540000</td>\n",
       "      <td>0.220000</td>\n",
       "      <td>-0.280000</td>\n",
       "      <td>0.570000</td>\n",
       "      <td>0.260000</td>\n",
       "      <td>0.700000</td>\n",
       "      <td>1.076667</td>\n",
       "      <td>0.930000</td>\n",
       "      <td>0.156667</td>\n",
       "      <td>...</td>\n",
       "      <td>0.813333</td>\n",
       "      <td>0.776667</td>\n",
       "      <td>0.796667</td>\n",
       "      <td>0.823333</td>\n",
       "      <td>0.783333</td>\n",
       "      <td>-249.7500</td>\n",
       "      <td>0.250</td>\n",
       "      <td>-0.04</td>\n",
       "      <td>-0.426</td>\n",
       "      <td>0.76</td>\n",
       "    </tr>\n",
       "    <tr>\n",
       "      <th>227846</th>\n",
       "      <td>0.633333</td>\n",
       "      <td>0.953333</td>\n",
       "      <td>0.810000</td>\n",
       "      <td>0.466667</td>\n",
       "      <td>0.910000</td>\n",
       "      <td>0.253333</td>\n",
       "      <td>1.040000</td>\n",
       "      <td>0.550000</td>\n",
       "      <td>0.543333</td>\n",
       "      <td>0.433333</td>\n",
       "      <td>...</td>\n",
       "      <td>0.703333</td>\n",
       "      <td>0.806667</td>\n",
       "      <td>0.630000</td>\n",
       "      <td>0.673333</td>\n",
       "      <td>0.673333</td>\n",
       "      <td>-249.8125</td>\n",
       "      <td>0.430</td>\n",
       "      <td>-0.77</td>\n",
       "      <td>-0.620</td>\n",
       "      <td>0.18</td>\n",
       "    </tr>\n",
       "    <tr>\n",
       "      <th>227847</th>\n",
       "      <td>1.043333</td>\n",
       "      <td>0.740000</td>\n",
       "      <td>0.860000</td>\n",
       "      <td>1.006667</td>\n",
       "      <td>0.583333</td>\n",
       "      <td>0.616667</td>\n",
       "      <td>0.630000</td>\n",
       "      <td>0.686667</td>\n",
       "      <td>0.593333</td>\n",
       "      <td>1.250000</td>\n",
       "      <td>...</td>\n",
       "      <td>0.753333</td>\n",
       "      <td>0.870000</td>\n",
       "      <td>0.596667</td>\n",
       "      <td>0.680000</td>\n",
       "      <td>0.670000</td>\n",
       "      <td>-248.1200</td>\n",
       "      <td>1.320</td>\n",
       "      <td>0.11</td>\n",
       "      <td>-0.406</td>\n",
       "      <td>0.39</td>\n",
       "    </tr>\n",
       "    <tr>\n",
       "      <th>227848</th>\n",
       "      <td>1.283333</td>\n",
       "      <td>0.300000</td>\n",
       "      <td>0.576667</td>\n",
       "      <td>0.636667</td>\n",
       "      <td>0.256667</td>\n",
       "      <td>0.543333</td>\n",
       "      <td>0.356667</td>\n",
       "      <td>0.663333</td>\n",
       "      <td>1.156667</td>\n",
       "      <td>1.186667</td>\n",
       "      <td>...</td>\n",
       "      <td>0.606667</td>\n",
       "      <td>0.456667</td>\n",
       "      <td>0.320000</td>\n",
       "      <td>0.676667</td>\n",
       "      <td>0.660000</td>\n",
       "      <td>-222.9875</td>\n",
       "      <td>-2.110</td>\n",
       "      <td>0.33</td>\n",
       "      <td>0.374</td>\n",
       "      <td>1.80</td>\n",
       "    </tr>\n",
       "    <tr>\n",
       "      <th>227849</th>\n",
       "      <td>1.186667</td>\n",
       "      <td>0.326667</td>\n",
       "      <td>0.476667</td>\n",
       "      <td>0.866667</td>\n",
       "      <td>0.436667</td>\n",
       "      <td>0.680000</td>\n",
       "      <td>0.476667</td>\n",
       "      <td>0.686667</td>\n",
       "      <td>1.476667</td>\n",
       "      <td>1.213333</td>\n",
       "      <td>...</td>\n",
       "      <td>0.896667</td>\n",
       "      <td>0.566667</td>\n",
       "      <td>0.546667</td>\n",
       "      <td>0.650000</td>\n",
       "      <td>0.663333</td>\n",
       "      <td>-196.2200</td>\n",
       "      <td>-2.110</td>\n",
       "      <td>-0.37</td>\n",
       "      <td>-0.130</td>\n",
       "      <td>1.89</td>\n",
       "    </tr>\n",
       "    <tr>\n",
       "      <th>...</th>\n",
       "      <td>...</td>\n",
       "      <td>...</td>\n",
       "      <td>...</td>\n",
       "      <td>...</td>\n",
       "      <td>...</td>\n",
       "      <td>...</td>\n",
       "      <td>...</td>\n",
       "      <td>...</td>\n",
       "      <td>...</td>\n",
       "      <td>...</td>\n",
       "      <td>...</td>\n",
       "      <td>...</td>\n",
       "      <td>...</td>\n",
       "      <td>...</td>\n",
       "      <td>...</td>\n",
       "      <td>...</td>\n",
       "      <td>...</td>\n",
       "      <td>...</td>\n",
       "      <td>...</td>\n",
       "      <td>...</td>\n",
       "      <td>...</td>\n",
       "    </tr>\n",
       "    <tr>\n",
       "      <th>284802</th>\n",
       "      <td>0.553333</td>\n",
       "      <td>1.043333</td>\n",
       "      <td>1.096667</td>\n",
       "      <td>0.686667</td>\n",
       "      <td>0.673333</td>\n",
       "      <td>0.340000</td>\n",
       "      <td>0.900000</td>\n",
       "      <td>0.643333</td>\n",
       "      <td>0.543333</td>\n",
       "      <td>0.586667</td>\n",
       "      <td>...</td>\n",
       "      <td>0.776667</td>\n",
       "      <td>0.610000</td>\n",
       "      <td>0.690000</td>\n",
       "      <td>0.750000</td>\n",
       "      <td>0.700000</td>\n",
       "      <td>-249.5050</td>\n",
       "      <td>-0.114</td>\n",
       "      <td>-0.51</td>\n",
       "      <td>0.010</td>\n",
       "      <td>-0.40</td>\n",
       "    </tr>\n",
       "    <tr>\n",
       "      <th>284803</th>\n",
       "      <td>1.353333</td>\n",
       "      <td>0.616667</td>\n",
       "      <td>0.276667</td>\n",
       "      <td>0.783333</td>\n",
       "      <td>0.690000</td>\n",
       "      <td>0.650000</td>\n",
       "      <td>0.473333</td>\n",
       "      <td>0.670000</td>\n",
       "      <td>1.023333</td>\n",
       "      <td>0.293333</td>\n",
       "      <td>...</td>\n",
       "      <td>0.690000</td>\n",
       "      <td>0.640000</td>\n",
       "      <td>0.883333</td>\n",
       "      <td>0.663333</td>\n",
       "      <td>0.660000</td>\n",
       "      <td>-248.7525</td>\n",
       "      <td>0.110</td>\n",
       "      <td>-0.46</td>\n",
       "      <td>0.064</td>\n",
       "      <td>-1.54</td>\n",
       "    </tr>\n",
       "    <tr>\n",
       "      <th>284804</th>\n",
       "      <td>1.083333</td>\n",
       "      <td>0.433333</td>\n",
       "      <td>0.806667</td>\n",
       "      <td>0.490000</td>\n",
       "      <td>0.243333</td>\n",
       "      <td>0.316667</td>\n",
       "      <td>0.533333</td>\n",
       "      <td>0.606667</td>\n",
       "      <td>0.420000</td>\n",
       "      <td>0.480000</td>\n",
       "      <td>...</td>\n",
       "      <td>0.780000</td>\n",
       "      <td>0.603333</td>\n",
       "      <td>0.880000</td>\n",
       "      <td>0.643333</td>\n",
       "      <td>0.676667</td>\n",
       "      <td>-231.0500</td>\n",
       "      <td>-0.530</td>\n",
       "      <td>0.65</td>\n",
       "      <td>-0.020</td>\n",
       "      <td>0.29</td>\n",
       "    </tr>\n",
       "    <tr>\n",
       "      <th>284805</th>\n",
       "      <td>0.566667</td>\n",
       "      <td>1.153333</td>\n",
       "      <td>0.370000</td>\n",
       "      <td>0.616667</td>\n",
       "      <td>0.793333</td>\n",
       "      <td>0.226667</td>\n",
       "      <td>0.910000</td>\n",
       "      <td>0.696667</td>\n",
       "      <td>0.600000</td>\n",
       "      <td>0.500000</td>\n",
       "      <td>...</td>\n",
       "      <td>0.646667</td>\n",
       "      <td>0.566667</td>\n",
       "      <td>0.616667</td>\n",
       "      <td>0.713333</td>\n",
       "      <td>0.706667</td>\n",
       "      <td>-246.3150</td>\n",
       "      <td>0.270</td>\n",
       "      <td>-0.92</td>\n",
       "      <td>0.610</td>\n",
       "      <td>-0.69</td>\n",
       "    </tr>\n",
       "    <tr>\n",
       "      <th>284806</th>\n",
       "      <td>1.426667</td>\n",
       "      <td>0.110000</td>\n",
       "      <td>-0.006667</td>\n",
       "      <td>-0.200000</td>\n",
       "      <td>0.983333</td>\n",
       "      <td>1.870000</td>\n",
       "      <td>0.033333</td>\n",
       "      <td>0.963333</td>\n",
       "      <td>0.266667</td>\n",
       "      <td>0.586667</td>\n",
       "      <td>...</td>\n",
       "      <td>0.893333</td>\n",
       "      <td>0.586667</td>\n",
       "      <td>0.616667</td>\n",
       "      <td>0.683333</td>\n",
       "      <td>0.650000</td>\n",
       "      <td>-248.4500</td>\n",
       "      <td>-0.664</td>\n",
       "      <td>1.57</td>\n",
       "      <td>0.354</td>\n",
       "      <td>-0.37</td>\n",
       "    </tr>\n",
       "  </tbody>\n",
       "</table>\n",
       "<p>56962 rows × 29 columns</p>\n",
       "</div>"
      ],
      "text/plain": [
       "            Per1      Per2      Per3      Per4      Per5      Per6      Per7  \\\n",
       "227845 -0.300000  1.540000  0.220000 -0.280000  0.570000  0.260000  0.700000   \n",
       "227846  0.633333  0.953333  0.810000  0.466667  0.910000  0.253333  1.040000   \n",
       "227847  1.043333  0.740000  0.860000  1.006667  0.583333  0.616667  0.630000   \n",
       "227848  1.283333  0.300000  0.576667  0.636667  0.256667  0.543333  0.356667   \n",
       "227849  1.186667  0.326667  0.476667  0.866667  0.436667  0.680000  0.476667   \n",
       "...          ...       ...       ...       ...       ...       ...       ...   \n",
       "284802  0.553333  1.043333  1.096667  0.686667  0.673333  0.340000  0.900000   \n",
       "284803  1.353333  0.616667  0.276667  0.783333  0.690000  0.650000  0.473333   \n",
       "284804  1.083333  0.433333  0.806667  0.490000  0.243333  0.316667  0.533333   \n",
       "284805  0.566667  1.153333  0.370000  0.616667  0.793333  0.226667  0.910000   \n",
       "284806  1.426667  0.110000 -0.006667 -0.200000  0.983333  1.870000  0.033333   \n",
       "\n",
       "            Per8      Per9      Dem1  ...     Cred2     Cred3     Cred4  \\\n",
       "227845  1.076667  0.930000  0.156667  ...  0.813333  0.776667  0.796667   \n",
       "227846  0.550000  0.543333  0.433333  ...  0.703333  0.806667  0.630000   \n",
       "227847  0.686667  0.593333  1.250000  ...  0.753333  0.870000  0.596667   \n",
       "227848  0.663333  1.156667  1.186667  ...  0.606667  0.456667  0.320000   \n",
       "227849  0.686667  1.476667  1.213333  ...  0.896667  0.566667  0.546667   \n",
       "...          ...       ...       ...  ...       ...       ...       ...   \n",
       "284802  0.643333  0.543333  0.586667  ...  0.776667  0.610000  0.690000   \n",
       "284803  0.670000  1.023333  0.293333  ...  0.690000  0.640000  0.883333   \n",
       "284804  0.606667  0.420000  0.480000  ...  0.780000  0.603333  0.880000   \n",
       "284805  0.696667  0.600000  0.500000  ...  0.646667  0.566667  0.616667   \n",
       "284806  0.963333  0.266667  0.586667  ...  0.893333  0.586667  0.616667   \n",
       "\n",
       "           Cred5     Cred6  Normalised_FNT  geo_score  instance_scores  \\\n",
       "227845  0.823333  0.783333       -249.7500      0.250            -0.04   \n",
       "227846  0.673333  0.673333       -249.8125      0.430            -0.77   \n",
       "227847  0.680000  0.670000       -248.1200      1.320             0.11   \n",
       "227848  0.676667  0.660000       -222.9875     -2.110             0.33   \n",
       "227849  0.650000  0.663333       -196.2200     -2.110            -0.37   \n",
       "...          ...       ...             ...        ...              ...   \n",
       "284802  0.750000  0.700000       -249.5050     -0.114            -0.51   \n",
       "284803  0.663333  0.660000       -248.7525      0.110            -0.46   \n",
       "284804  0.643333  0.676667       -231.0500     -0.530             0.65   \n",
       "284805  0.713333  0.706667       -246.3150      0.270            -0.92   \n",
       "284806  0.683333  0.650000       -248.4500     -0.664             1.57   \n",
       "\n",
       "        qsets_normalized_tat  lambda_wt  \n",
       "227845                -0.426       0.76  \n",
       "227846                -0.620       0.18  \n",
       "227847                -0.406       0.39  \n",
       "227848                 0.374       1.80  \n",
       "227849                -0.130       1.89  \n",
       "...                      ...        ...  \n",
       "284802                 0.010      -0.40  \n",
       "284803                 0.064      -1.54  \n",
       "284804                -0.020       0.29  \n",
       "284805                 0.610      -0.69  \n",
       "284806                 0.354      -0.37  \n",
       "\n",
       "[56962 rows x 29 columns]"
      ]
     },
     "execution_count": 49,
     "metadata": {},
     "output_type": "execute_result"
    }
   ],
   "source": [
    "Test_data"
   ]
  },
  {
   "cell_type": "code",
   "execution_count": 50,
   "id": "e3a8316e-0fb9-42f6-b2c6-7f25c58e808e",
   "metadata": {},
   "outputs": [
    {
     "data": {
      "text/plain": [
       "False"
      ]
     },
     "execution_count": 50,
     "metadata": {},
     "output_type": "execute_result"
    }
   ],
   "source": [
    "Train_data.isna().sum().any()"
   ]
  },
  {
   "cell_type": "code",
   "execution_count": 51,
   "id": "3f964951-5486-4926-a318-ec5463096269",
   "metadata": {},
   "outputs": [
    {
     "data": {
      "text/plain": [
       "False"
      ]
     },
     "execution_count": 51,
     "metadata": {},
     "output_type": "execute_result"
    }
   ],
   "source": [
    "Test_data.isnull().sum().any()"
   ]
  },
  {
   "cell_type": "markdown",
   "id": "3deb74e0-d321-430d-9d0b-23985bdc4e93",
   "metadata": {},
   "source": [
    "## Correlation Matrix"
   ]
  },
  {
   "cell_type": "code",
   "execution_count": 52,
   "id": "81e4c950-1306-4a44-b9a7-03f389a06337",
   "metadata": {},
   "outputs": [
    {
     "data": {
      "text/plain": [
       "<Axes: >"
      ]
     },
     "execution_count": 52,
     "metadata": {},
     "output_type": "execute_result"
    },
    {
     "data": {
      "image/png": "[encoded data removed]",
      "text/plain": [
       "<Figure size 2000x1000 with 2 Axes>"
      ]
     },
     "metadata": {},
     "output_type": "display_data"
    }
   ],
   "source": [
    "plt.figure(figsize=(20,10))\n",
    "sns.heatmap(Train_data.corr(), annot=True, cmap=\"crest\")"
   ]
  },
  {
   "cell_type": "markdown",
   "id": "44247777-6970-4afe-9088-d1d60f003b1d",
   "metadata": {},
   "source": [
    "## Data splitting"
   ]
  },
  {
   "cell_type": "code",
   "execution_count": 53,
   "id": "490a9e67-e876-4bc8-ab09-489f1ee83a6c",
   "metadata": {},
   "outputs": [],
   "source": [
    "y_train=Train_data['Target']"
   ]
  },
  {
   "cell_type": "code",
   "execution_count": 54,
   "id": "6a79eb94-eb68-4f1f-a5ce-f0c3c8a67664",
   "metadata": {},
   "outputs": [],
   "source": [
    "x_train=Train_data.drop('Target',axis=1)"
   ]
  },
  {
   "cell_type": "code",
   "execution_count": 55,
   "id": "d16c15af-9597-4117-950f-15e26156b25b",
   "metadata": {},
   "outputs": [
    {
     "data": {
      "text/html": [
       "<div>\n",
       "<style scoped>\n",
       "    .dataframe tbody tr th:only-of-type {\n",
       "        vertical-align: middle;\n",
       "    }\n",
       "\n",
       "    .dataframe tbody tr th {\n",
       "        vertical-align: top;\n",
       "    }\n",
       "\n",
       "    .dataframe thead th {\n",
       "        text-align: right;\n",
       "    }\n",
       "</style>\n",
       "<table border=\"1\" class=\"dataframe\">\n",
       "  <thead>\n",
       "    <tr style=\"text-align: right;\">\n",
       "      <th></th>\n",
       "      <th>Per1</th>\n",
       "      <th>Per2</th>\n",
       "      <th>Per3</th>\n",
       "      <th>Per4</th>\n",
       "      <th>Per5</th>\n",
       "      <th>Per6</th>\n",
       "      <th>Per7</th>\n",
       "      <th>Per8</th>\n",
       "      <th>Per9</th>\n",
       "      <th>Dem1</th>\n",
       "      <th>...</th>\n",
       "      <th>Cred2</th>\n",
       "      <th>Cred3</th>\n",
       "      <th>Cred4</th>\n",
       "      <th>Cred5</th>\n",
       "      <th>Cred6</th>\n",
       "      <th>Normalised_FNT</th>\n",
       "      <th>geo_score</th>\n",
       "      <th>instance_scores</th>\n",
       "      <th>qsets_normalized_tat</th>\n",
       "      <th>lambda_wt</th>\n",
       "    </tr>\n",
       "  </thead>\n",
       "  <tbody>\n",
       "    <tr>\n",
       "      <th>0</th>\n",
       "      <td>1.070000</td>\n",
       "      <td>0.580000</td>\n",
       "      <td>0.480000</td>\n",
       "      <td>0.766667</td>\n",
       "      <td>1.233333</td>\n",
       "      <td>1.993333</td>\n",
       "      <td>0.340000</td>\n",
       "      <td>1.010000</td>\n",
       "      <td>0.863333</td>\n",
       "      <td>0.460000</td>\n",
       "      <td>...</td>\n",
       "      <td>1.010000</td>\n",
       "      <td>0.933333</td>\n",
       "      <td>0.603333</td>\n",
       "      <td>0.686667</td>\n",
       "      <td>0.673333</td>\n",
       "      <td>-245.7500</td>\n",
       "      <td>0.256</td>\n",
       "      <td>-0.06</td>\n",
       "      <td>-0.700</td>\n",
       "      <td>-0.13</td>\n",
       "    </tr>\n",
       "    <tr>\n",
       "      <th>1</th>\n",
       "      <td>0.473333</td>\n",
       "      <td>1.206667</td>\n",
       "      <td>0.883333</td>\n",
       "      <td>1.430000</td>\n",
       "      <td>0.726667</td>\n",
       "      <td>0.626667</td>\n",
       "      <td>0.810000</td>\n",
       "      <td>0.783333</td>\n",
       "      <td>0.190000</td>\n",
       "      <td>0.470000</td>\n",
       "      <td>...</td>\n",
       "      <td>0.690000</td>\n",
       "      <td>0.560000</td>\n",
       "      <td>0.670000</td>\n",
       "      <td>0.553333</td>\n",
       "      <td>0.653333</td>\n",
       "      <td>-248.0000</td>\n",
       "      <td>-0.250</td>\n",
       "      <td>0.52</td>\n",
       "      <td>0.140</td>\n",
       "      <td>0.66</td>\n",
       "    </tr>\n",
       "    <tr>\n",
       "      <th>2</th>\n",
       "      <td>1.130000</td>\n",
       "      <td>0.143333</td>\n",
       "      <td>0.946667</td>\n",
       "      <td>0.123333</td>\n",
       "      <td>0.080000</td>\n",
       "      <td>0.836667</td>\n",
       "      <td>0.056667</td>\n",
       "      <td>0.756667</td>\n",
       "      <td>0.226667</td>\n",
       "      <td>0.660000</td>\n",
       "      <td>...</td>\n",
       "      <td>0.383333</td>\n",
       "      <td>0.763333</td>\n",
       "      <td>0.670000</td>\n",
       "      <td>0.686667</td>\n",
       "      <td>0.673333</td>\n",
       "      <td>-233.1250</td>\n",
       "      <td>-0.950</td>\n",
       "      <td>1.56</td>\n",
       "      <td>-0.430</td>\n",
       "      <td>-0.51</td>\n",
       "    </tr>\n",
       "    <tr>\n",
       "      <th>3</th>\n",
       "      <td>0.636667</td>\n",
       "      <td>1.090000</td>\n",
       "      <td>0.750000</td>\n",
       "      <td>0.940000</td>\n",
       "      <td>0.743333</td>\n",
       "      <td>0.346667</td>\n",
       "      <td>0.956667</td>\n",
       "      <td>0.633333</td>\n",
       "      <td>0.486667</td>\n",
       "      <td>1.096667</td>\n",
       "      <td>...</td>\n",
       "      <td>0.846667</td>\n",
       "      <td>0.423333</td>\n",
       "      <td>0.520000</td>\n",
       "      <td>0.846667</td>\n",
       "      <td>0.760000</td>\n",
       "      <td>-249.7775</td>\n",
       "      <td>0.490</td>\n",
       "      <td>0.70</td>\n",
       "      <td>-0.302</td>\n",
       "      <td>0.72</td>\n",
       "    </tr>\n",
       "    <tr>\n",
       "      <th>4</th>\n",
       "      <td>0.560000</td>\n",
       "      <td>1.013333</td>\n",
       "      <td>0.593333</td>\n",
       "      <td>0.416667</td>\n",
       "      <td>0.773333</td>\n",
       "      <td>0.460000</td>\n",
       "      <td>0.853333</td>\n",
       "      <td>0.796667</td>\n",
       "      <td>0.516667</td>\n",
       "      <td>0.756667</td>\n",
       "      <td>...</td>\n",
       "      <td>0.526667</td>\n",
       "      <td>0.520000</td>\n",
       "      <td>0.716667</td>\n",
       "      <td>0.706667</td>\n",
       "      <td>0.673333</td>\n",
       "      <td>-247.5775</td>\n",
       "      <td>0.850</td>\n",
       "      <td>-0.47</td>\n",
       "      <td>-0.630</td>\n",
       "      <td>0.60</td>\n",
       "    </tr>\n",
       "  </tbody>\n",
       "</table>\n",
       "<p>5 rows × 29 columns</p>\n",
       "</div>"
      ],
      "text/plain": [
       "       Per1      Per2      Per3      Per4      Per5      Per6      Per7  \\\n",
       "0  1.070000  0.580000  0.480000  0.766667  1.233333  1.993333  0.340000   \n",
       "1  0.473333  1.206667  0.883333  1.430000  0.726667  0.626667  0.810000   \n",
       "2  1.130000  0.143333  0.946667  0.123333  0.080000  0.836667  0.056667   \n",
       "3  0.636667  1.090000  0.750000  0.940000  0.743333  0.346667  0.956667   \n",
       "4  0.560000  1.013333  0.593333  0.416667  0.773333  0.460000  0.853333   \n",
       "\n",
       "       Per8      Per9      Dem1  ...     Cred2     Cred3     Cred4     Cred5  \\\n",
       "0  1.010000  0.863333  0.460000  ...  1.010000  0.933333  0.603333  0.686667   \n",
       "1  0.783333  0.190000  0.470000  ...  0.690000  0.560000  0.670000  0.553333   \n",
       "2  0.756667  0.226667  0.660000  ...  0.383333  0.763333  0.670000  0.686667   \n",
       "3  0.633333  0.486667  1.096667  ...  0.846667  0.423333  0.520000  0.846667   \n",
       "4  0.796667  0.516667  0.756667  ...  0.526667  0.520000  0.716667  0.706667   \n",
       "\n",
       "      Cred6  Normalised_FNT  geo_score  instance_scores  qsets_normalized_tat  \\\n",
       "0  0.673333       -245.7500      0.256            -0.06                -0.700   \n",
       "1  0.653333       -248.0000     -0.250             0.52                 0.140   \n",
       "2  0.673333       -233.1250     -0.950             1.56                -0.430   \n",
       "3  0.760000       -249.7775      0.490             0.70                -0.302   \n",
       "4  0.673333       -247.5775      0.850            -0.47                -0.630   \n",
       "\n",
       "   lambda_wt  \n",
       "0      -0.13  \n",
       "1       0.66  \n",
       "2      -0.51  \n",
       "3       0.72  \n",
       "4       0.60  \n",
       "\n",
       "[5 rows x 29 columns]"
      ]
     },
     "execution_count": 55,
     "metadata": {},
     "output_type": "execute_result"
    }
   ],
   "source": [
    "x_train.head(5)"
   ]
  },
  {
   "cell_type": "code",
   "execution_count": 56,
   "id": "8631add1-fa0c-439a-aaba-130aa86d528d",
   "metadata": {},
   "outputs": [
    {
     "data": {
      "text/plain": [
       "0    0.0\n",
       "1    0.0\n",
       "2    0.0\n",
       "3    0.0\n",
       "4    0.0\n",
       "Name: Target, dtype: float64"
      ]
     },
     "execution_count": 56,
     "metadata": {},
     "output_type": "execute_result"
    }
   ],
   "source": [
    "y_train.head(5)"
   ]
  },
  {
   "cell_type": "code",
   "execution_count": 57,
   "id": "c4287277-c386-4520-894d-0fa47a76fe49",
   "metadata": {},
   "outputs": [
    {
     "name": "stdout",
     "output_type": "stream",
     "text": [
      "(227845, 29)\n"
     ]
    },
    {
     "data": {
      "text/plain": [
       "(227845,)"
      ]
     },
     "execution_count": 57,
     "metadata": {},
     "output_type": "execute_result"
    }
   ],
   "source": [
    "print(x_train.shape)\n",
    "y_train.shape"
   ]
  },
  {
   "cell_type": "markdown",
   "id": "f1f8b8ad-53df-4ca0-90a9-83439aa4d347",
   "metadata": {},
   "source": [
    "# Outlier Treatment"
   ]
  },
  {
   "cell_type": "markdown",
   "id": "fd7906d6-ab75-4fa3-82e9-4db78bfd8690",
   "metadata": {},
   "source": [
    "## Check Outlier"
   ]
  },
  {
   "cell_type": "code",
   "execution_count": 59,
   "id": "ee52772a-148a-4b7e-8a55-e38b2ae8ddd9",
   "metadata": {},
   "outputs": [],
   "source": [
    "def check_outlier(col):\n",
    "    sorted(col)\n",
    "    Q1,Q3 = col.quantile([.25, .75])\n",
    "    IQR = Q3 -Q1\n",
    "    lower_range = Q1 - 1.5 * IQR\n",
    "    upper_range = Q3 + 1.5 * IQR\n",
    "    print('Min:', min(col), 'lower_IQR_limit:', lower_range,'|', 'Q1:', Q1,'|', '|', 'Q3:', Q3, 'upper_IQR_limit:', upper_range,\"Max:\", max(col))"
   ]
  },
  {
   "cell_type": "code",
   "execution_count": 60,
   "id": "3dc219e7-961b-4056-8c3a-f4bf6ada5a7e",
   "metadata": {},
   "outputs": [
    {
     "name": "stdout",
     "output_type": "stream",
     "text": [
      "*** Per1 ***\n",
      "Min: -18.136666666666667 lower_IQR_limit: -0.755 | Q1: 0.36 | | Q3: 1.1033333333333333 upper_IQR_limit: 2.2183333333333333 Max: 1.4833333333333334\n",
      "*** Per2 ***\n",
      "Min: -23.57333333333333 lower_IQR_limit: -0.22499999999999987 | Q1: 0.47 | | Q3: 0.9333333333333332 upper_IQR_limit: 1.628333333333333 Max: 8.02\n",
      "*** Per3 ***\n",
      "Min: -15.443333333333332 lower_IQR_limit: -0.5900000000000003 | Q1: 0.3699999999999999 | | Q3: 1.01 upper_IQR_limit: 1.9700000000000002 Max: 3.793333333333333\n",
      "*** Per4 ***\n",
      "Min: -1.2266666666666666 lower_IQR_limit: -0.41166666666666685 | Q1: 0.3833333333333333 | | Q3: 0.9133333333333334 upper_IQR_limit: 1.7083333333333335 Max: 6.163333333333333\n",
      "*** Per5 ***\n",
      "Min: -37.24666666666666 lower_IQR_limit: -0.2133333333333332 | Q1: 0.4366666666666667 | | Q3: 0.87 upper_IQR_limit: 1.52 Max: 12.266666666666666\n",
      "*** Per6 ***\n",
      "Min: -8.053333333333333 lower_IQR_limit: -0.175 | Q1: 0.41 | | Q3: 0.7999999999999999 upper_IQR_limit: 1.3849999999999998 Max: 25.1\n",
      "*** Per7 ***\n",
      "Min: -13.853333333333332 lower_IQR_limit: -0.07666666666666666 | Q1: 0.4833333333333333 | | Q3: 0.8566666666666666 upper_IQR_limit: 1.4166666666666665 Max: 40.86333333333334\n",
      "*** Per8 ***\n",
      "Min: -23.74 lower_IQR_limit: 0.3266666666666666 | Q1: 0.5966666666666667 | | Q3: 0.7766666666666667 upper_IQR_limit: 1.0466666666666669 Max: 7.336666666666667\n",
      "*** Per9 ***\n",
      "Min: -3.81 lower_IQR_limit: -0.1666666666666668 | Q1: 0.4533333333333333 | | Q3: 0.8666666666666667 upper_IQR_limit: 1.4866666666666668 Max: 5.863333333333333\n",
      "*** Dem1 ***\n",
      "Min: -0.8933333333333332 lower_IQR_limit: -0.33666666666666706 | Q1: 0.4133333333333333 | | Q3: 0.9133333333333334 upper_IQR_limit: 1.6633333333333338 Max: 4.673333333333333\n",
      "*** Dem2 ***\n",
      "Min: -1.2633333333333334 lower_IQR_limit: -0.20500000000000002 | Q1: 0.45 | | Q3: 0.8866666666666667 upper_IQR_limit: 1.5416666666666667 Max: 3.043333333333333\n",
      "*** Dem3 ***\n",
      "Min: -0.8333333333333334 lower_IQR_limit: -0.14166666666666672 | Q1: 0.4733333333333333 | | Q3: 0.8833333333333333 upper_IQR_limit: 1.4983333333333333 Max: 3.626666666666667\n",
      "*** Dem4 ***\n",
      "Min: -3.8533333333333335 lower_IQR_limit: 0.015000000000000069 | Q1: 0.51 | | Q3: 0.84 upper_IQR_limit: 1.335 Max: 6.44\n",
      "*** Dem5 ***\n",
      "Min: -2.5 lower_IQR_limit: 0.0 | Q1: 0.5 | | Q3: 0.8333333333333334 upper_IQR_limit: 1.3333333333333335 Max: 2.08\n",
      "*** Dem6 ***\n",
      "Min: -0.9766666666666666 lower_IQR_limit: 0.053333333333333344 | Q1: 0.5133333333333333 | | Q3: 0.82 upper_IQR_limit: 1.2799999999999998 Max: 2.53\n",
      "*** Dem7 ***\n",
      "Min: -17.5 lower_IQR_limit: 0.42666666666666675 | Q1: 0.5966666666666667 | | Q3: 0.71 upper_IQR_limit: 0.8799999999999999 Max: 9.413333333333332\n",
      "*** Dem8 ***\n",
      "Min: -10.943333333333332 lower_IQR_limit: 0.37999999999999995 | Q1: 0.59 | | Q3: 0.73 upper_IQR_limit: 0.94 Max: 9.733333333333333\n",
      "*** Dem9 ***\n",
      "Min: -2.296666666666667 lower_IQR_limit: -0.04833333333333356 | Q1: 0.4866666666666666 | | Q3: 0.8433333333333334 upper_IQR_limit: 1.3783333333333334 Max: 4.166666666666667\n",
      "*** Cred1 ***\n",
      "Min: -14.27 lower_IQR_limit: 0.4583333333333335 | Q1: 0.6133333333333334 | | Q3: 0.7166666666666667 upper_IQR_limit: 0.8716666666666666 Max: 8.176666666666668\n",
      "*** Cred2 ***\n",
      "Min: -0.2799999999999999 lower_IQR_limit: 0.14666666666666683 | Q1: 0.5466666666666667 | | Q3: 0.8133333333333334 upper_IQR_limit: 1.2133333333333334 Max: 2.1933333333333334\n",
      "*** Cred3 ***\n",
      "Min: -2.766666666666667 lower_IQR_limit: 0.22499999999999987 | Q1: 0.5599999999999999 | | Q3: 0.7833333333333333 upper_IQR_limit: 1.1183333333333334 Max: 3.1733333333333333\n",
      "*** Cred4 ***\n",
      "Min: -0.08 lower_IQR_limit: 0.27166666666666656 | Q1: 0.5566666666666666 | | Q3: 0.7466666666666667 upper_IQR_limit: 1.0316666666666667 Max: 1.84\n",
      "*** Cred5 ***\n",
      "Min: -6.8566666666666665 lower_IQR_limit: 0.5633333333333332 | Q1: 0.6433333333333333 | | Q3: 0.6966666666666667 upper_IQR_limit: 0.7766666666666666 Max: 11.203333333333331\n",
      "*** Cred6 ***\n",
      "Min: -4.476666666666667 lower_IQR_limit: 0.585 | Q1: 0.65 | | Q3: 0.6933333333333334 upper_IQR_limit: 0.7583333333333333 Max: 11.95\n",
      "*** Normalised_FNT ***\n",
      "Min: -250.0 lower_IQR_limit: -275.41875000000005 | Q1: -248.6175 | | Q3: -230.75 upper_IQR_limit: -203.94875 Max: 6172.79\n",
      "*** geo_score ***\n",
      "Min: -18.680000000000003 lower_IQR_limit: -1.9449999999999976 | Q1: -0.39999999999999913 | | Q3: 0.6299999999999997 upper_IQR_limit: 2.174999999999998 Max: 7.85\n",
      "*** instance_scores ***\n",
      "Min: -24.59 lower_IQR_limit: -2.025 | Q1: -0.5399999999999999 | | Q3: 0.45 upper_IQR_limit: 1.9349999999999998 Max: 23.75\n",
      "*** qsets_normalized_tat ***\n",
      "Min: -25.156 lower_IQR_limit: -1.8000000000000007 | Q1: -0.4800000000000001 | | Q3: 0.4000000000000002 upper_IQR_limit: 1.7200000000000006 Max: 8.540000000000001\n",
      "*** lambda_wt ***\n",
      "Min: -19.21 lower_IQR_limit: -1.8099999999999998 | Q1: -0.43 | | Q3: 0.49 upper_IQR_limit: 1.8699999999999999 Max: 10.53\n"
     ]
    }
   ],
   "source": [
    "for i in x_train.columns:\n",
    "    print('***',i,'***')\n",
    "    check_outlier(x_train[i])"
   ]
  },
  {
   "cell_type": "markdown",
   "id": "d483eab9-4156-4fa0-bbb5-0feae5e05fa7",
   "metadata": {},
   "source": [
    "## Capping outliers"
   ]
  },
  {
   "cell_type": "code",
   "execution_count": 61,
   "id": "8e25b2b0-aa7c-4c35-92cb-cf8a646f33ad",
   "metadata": {},
   "outputs": [],
   "source": [
    "def treat_outlier(x):\n",
    "    # taking 5,25, 75,95\n",
    "    q5 = np.percentile(x,5)\n",
    "    q25 = np.percentile(x,25)\n",
    "    q75 = np.percentile(x,75)\n",
    "    q95 = np.percentile(x,95)\n",
    "    # calculating IQR \n",
    "    IQR = q75 - q25\n",
    "    # calculating minimum and max threshold value\n",
    "    lower_bound = q25 - 1.5 * IQR\n",
    "    upper_bound = q75 + 1.5 * IQR\n",
    "    print(q5, q25, q75, q95, min(x), max(x))\n",
    "    z=x.apply(lambda y: q95 if y > upper_bound else y).apply(lambda y :q5 if y < lower_bound else y )\n",
    "    print('lower:', lower_bound,'|', 'Q1:', np.percentile(z,25),'|', '|', 'Q3:', np.percentile(z,75), 'upper:', upper_bound)\n",
    "    return z"
   ]
  },
  {
   "cell_type": "code",
   "execution_count": 62,
   "id": "c8bdb786-751e-4ffb-83c8-7998c3f34fc8",
   "metadata": {},
   "outputs": [
    {
     "name": "stdout",
     "output_type": "stream",
     "text": [
      "-0.9800000000000001 -0.4800000000000001 0.4000000000000002 1.2740000000000005 -25.156 8.540000000000001\n",
      "lower: -1.8000000000000007 | Q1: -0.4800000000000001 | | Q3: 0.4000000000000002 upper: 1.7200000000000006\n"
     ]
    }
   ],
   "source": [
    "k=treat_outlier(Train_data['qsets_normalized_tat'])"
   ]
  },
  {
   "cell_type": "code",
   "execution_count": 63,
   "id": "cb058ae0-f096-4cd3-859e-e83b46340d58",
   "metadata": {},
   "outputs": [
    {
     "name": "stdout",
     "output_type": "stream",
     "text": [
      "Min: -1.8000000000000003 lower_IQR_limit: -1.8000000000000007 | Q1: -0.4800000000000001 | | Q3: 0.4000000000000002 upper_IQR_limit: 1.7200000000000006 Max: 1.7200000000000006\n",
      "None\n",
      "-1.8000000000000003 | 1.7200000000000006\n",
      "-0.4800000000000001 | 1.2740000000000005\n"
     ]
    }
   ],
   "source": [
    "print(check_outlier(k))\n",
    "print(min(k),\"|\",max(k))\n",
    "print(np.percentile(k,25),\"|\",np.percentile(k,95))"
   ]
  },
  {
   "cell_type": "code",
   "execution_count": 64,
   "id": "000ae654-a835-4683-97a7-207f4b7f0928",
   "metadata": {},
   "outputs": [
    {
     "name": "stdout",
     "output_type": "stream",
     "text": [
      "-0.3 0.36 1.1033333333333333 1.36 -18.136666666666667 1.4833333333333334\n",
      "lower: -0.755 | Q1: 0.36 | | Q3: 1.1033333333333333 upper: 2.2183333333333333\n",
      "0.01 0.47 0.9333333333333332 1.27 -23.57333333333333 8.02\n",
      "lower: -0.22499999999999987 | Q1: 0.47 | | Q3: 0.9333333333333332 upper: 1.628333333333333\n",
      "-0.13 0.3699999999999999 1.01 1.3533333333333335 -15.443333333333332 3.793333333333333\n",
      "lower: -0.5900000000000003 | Q1: 0.3699999999999999 | | Q3: 1.01 upper: 1.9700000000000002\n",
      "-0.0633333333333333 0.3833333333333333 0.9133333333333334 1.5233333333333334 -1.2266666666666666 6.163333333333333\n",
      "lower: -0.41166666666666685 | Q1: 0.3833333333333333 | | Q3: 0.9133333333333334 upper: 1.7083333333333335\n",
      "0.1 0.4366666666666667 0.87 1.3666666666666665 -37.24666666666666 12.266666666666666\n",
      "lower: -0.2133333333333332 | Q1: 0.4366666666666667 | | Q3: 0.87 upper: 1.52\n",
      "0.1966666666666666 0.41 0.7999999999999999 1.72 -8.053333333333333 25.1\n",
      "lower: -0.175 | Q1: 0.41 | | Q3: 0.7999999999999999 upper: 1.3849999999999998\n",
      "0.19 0.4833333333333333 0.8566666666666666 1.1366666666666667 -13.853333333333332 40.86333333333334\n",
      "lower: -0.07666666666666666 | Q1: 0.4833333333333333 | | Q3: 0.8566666666666666 upper: 1.4166666666666665\n",
      "0.3833333333333333 0.5966666666666667 0.7766666666666667 1.0166666666666666 -23.74 7.336666666666667\n",
      "lower: 0.3266666666666666 | Q1: 0.5966666666666667 | | Q3: 0.7766666666666667 upper: 1.0466666666666669\n",
      "0.08 0.4533333333333333 0.8666666666666667 1.26 -3.81 5.863333333333333\n",
      "lower: -0.1666666666666668 | Q1: 0.4533333333333333 | | Q3: 0.8666666666666667 upper: 1.4866666666666668\n",
      "0.1433333333333333 0.4133333333333333 0.9133333333333334 1.2033333333333334 -0.8933333333333332 4.673333333333333\n",
      "lower: -0.33666666666666706 | Q1: 0.4133333333333333 | | Q3: 0.9133333333333334 upper: 1.6633333333333338\n",
      "0.12 0.45 0.8866666666666667 1.2033333333333334 -1.2633333333333334 3.043333333333333\n",
      "lower: -0.20500000000000002 | Q1: 0.45 | | Q3: 0.8866666666666667 upper: 1.5416666666666667\n",
      "0.1333333333333333 0.4733333333333333 0.8833333333333333 1.1233333333333333 -0.8333333333333334 3.626666666666667\n",
      "lower: -0.14166666666666672 | Q1: 0.4733333333333333 | | Q3: 0.8833333333333333 upper: 1.4983333333333333\n",
      "0.17 0.51 0.84 1.11 -3.8533333333333335 6.44\n",
      "lower: 0.015000000000000069 | Q1: 0.51 | | Q3: 0.84 upper: 1.335\n",
      "0.2133333333333333 0.5 0.8333333333333334 1.13 -2.5 2.08\n",
      "lower: 0.0 | Q1: 0.5 | | Q3: 0.8333333333333334 upper: 1.3333333333333335\n",
      "0.2133333333333333 0.5133333333333333 0.82 1.096666666666667 -0.9766666666666666 2.53\n",
      "lower: 0.053333333333333344 | Q1: 0.5133333333333333 | | Q3: 0.82 upper: 1.2799999999999998\n",
      "0.48 0.5966666666666667 0.71 0.9466666666666668 -17.5 9.413333333333332\n",
      "lower: 0.42666666666666675 | Q1: 0.5966666666666667 | | Q3: 0.71 upper: 0.8799999999999999\n",
      "0.4966666666666666 0.59 0.73 0.8466666666666667 -10.943333333333332 9.733333333333333\n",
      "lower: 0.37999999999999995 | Q1: 0.59 | | Q3: 0.73 upper: 0.94\n",
      "0.3066666666666666 0.4866666666666666 0.8433333333333334 1.0433333333333332 -2.296666666666667 4.166666666666667\n",
      "lower: -0.04833333333333356 | Q1: 0.4866666666666666 | | Q3: 0.8433333333333334 upper: 1.3783333333333334\n",
      "0.51 0.6133333333333334 0.7166666666666667 0.8300000000000001 -14.27 8.176666666666668\n",
      "lower: 0.4583333333333335 | Q1: 0.6133333333333334 | | Q3: 0.7166666666666667 upper: 0.8716666666666666\n",
      "0.2833333333333334 0.5466666666666667 0.8133333333333334 0.9566666666666668 -0.2799999999999999 2.1933333333333334\n",
      "lower: 0.14666666666666683 | Q1: 0.5466666666666667 | | Q3: 0.8133333333333334 upper: 1.2133333333333334\n",
      "0.3899999999999999 0.5599999999999999 0.7833333333333333 0.92 -2.766666666666667 3.1733333333333333\n",
      "lower: 0.22499999999999987 | Q1: 0.5599999999999999 | | Q3: 0.7833333333333333 upper: 1.1183333333333334\n",
      "0.4333333333333333 0.5566666666666666 0.7466666666666667 0.9733333333333332 -0.08 1.84\n",
      "lower: 0.27166666666666656 | Q1: 0.5566666666666666 | | Q3: 0.7466666666666667 upper: 1.0316666666666667\n",
      "0.5266666666666667 0.6433333333333333 0.6966666666666667 0.7966666666666667 -6.8566666666666665 11.203333333333331\n",
      "lower: 0.5633333333333332 | Q1: 0.6433333333333333 | | Q3: 0.6966666666666667 upper: 0.7766666666666666\n",
      "0.5599999999999999 0.65 0.6933333333333334 0.7533333333333333 -4.476666666666667 11.95\n",
      "lower: 0.585 | Q1: 0.65 | | Q3: 0.6933333333333334 upper: 0.7583333333333333\n",
      "-249.77 -248.6175 -230.75 -158.91750000000016 -250.0 6172.79\n",
      "lower: -275.41875000000005 | Q1: -248.6175 | | Q3: -230.75 upper: -203.94875\n",
      "-1.9599999999999997 -0.39999999999999913 0.6299999999999997 1.2500000000000002 -18.680000000000003 7.85\n",
      "lower: -1.9449999999999976 | Q1: -0.39999999999999913 | | Q3: 0.6299999999999997 upper: 2.174999999999998\n",
      "-1.34 -0.5399999999999999 0.45 1.55 -24.59 23.75\n",
      "lower: -2.025 | Q1: -0.5399999999999999 | | Q3: 0.45 upper: 1.9349999999999998\n",
      "-0.9800000000000001 -0.4800000000000001 0.4000000000000002 1.2740000000000005 -25.156 8.540000000000001\n",
      "lower: -1.8000000000000007 | Q1: -0.4800000000000001 | | Q3: 0.4000000000000002 upper: 1.7200000000000006\n",
      "-1.44 -0.43 0.49 1.39 -19.21 10.53\n",
      "lower: -1.8099999999999998 | Q1: -0.43 | | Q3: 0.49 upper: 1.8699999999999999\n"
     ]
    }
   ],
   "source": [
    "for i in x_train:\n",
    "    x_train[i] = treat_outlier(x_train[i])"
   ]
  },
  {
   "cell_type": "code",
   "execution_count": 65,
   "id": "9fc410b6-313e-44f2-91d2-7e22416013fe",
   "metadata": {},
   "outputs": [
    {
     "data": {
      "text/html": [
       "<div>\n",
       "<style scoped>\n",
       "    .dataframe tbody tr th:only-of-type {\n",
       "        vertical-align: middle;\n",
       "    }\n",
       "\n",
       "    .dataframe tbody tr th {\n",
       "        vertical-align: top;\n",
       "    }\n",
       "\n",
       "    .dataframe thead th {\n",
       "        text-align: right;\n",
       "    }\n",
       "</style>\n",
       "<table border=\"1\" class=\"dataframe\">\n",
       "  <thead>\n",
       "    <tr style=\"text-align: right;\">\n",
       "      <th></th>\n",
       "      <th>Per1</th>\n",
       "      <th>Per2</th>\n",
       "      <th>Per3</th>\n",
       "      <th>Per4</th>\n",
       "      <th>Per5</th>\n",
       "      <th>Per6</th>\n",
       "      <th>Per7</th>\n",
       "      <th>Per8</th>\n",
       "      <th>Per9</th>\n",
       "      <th>Dem1</th>\n",
       "      <th>...</th>\n",
       "      <th>Cred3</th>\n",
       "      <th>Cred4</th>\n",
       "      <th>Cred5</th>\n",
       "      <th>Cred6</th>\n",
       "      <th>Normalised_FNT</th>\n",
       "      <th>Target</th>\n",
       "      <th>geo_score</th>\n",
       "      <th>instance_scores</th>\n",
       "      <th>qsets_normalized_tat</th>\n",
       "      <th>lambda_wt</th>\n",
       "    </tr>\n",
       "  </thead>\n",
       "  <tbody>\n",
       "    <tr>\n",
       "      <th>0</th>\n",
       "      <td>1.070000</td>\n",
       "      <td>0.580000</td>\n",
       "      <td>0.480000</td>\n",
       "      <td>0.766667</td>\n",
       "      <td>1.233333</td>\n",
       "      <td>1.993333</td>\n",
       "      <td>0.340000</td>\n",
       "      <td>1.010000</td>\n",
       "      <td>0.863333</td>\n",
       "      <td>0.460000</td>\n",
       "      <td>...</td>\n",
       "      <td>0.933333</td>\n",
       "      <td>0.603333</td>\n",
       "      <td>0.686667</td>\n",
       "      <td>0.673333</td>\n",
       "      <td>-245.7500</td>\n",
       "      <td>0.0</td>\n",
       "      <td>0.256</td>\n",
       "      <td>-0.06</td>\n",
       "      <td>-0.700</td>\n",
       "      <td>-0.13</td>\n",
       "    </tr>\n",
       "    <tr>\n",
       "      <th>1</th>\n",
       "      <td>0.473333</td>\n",
       "      <td>1.206667</td>\n",
       "      <td>0.883333</td>\n",
       "      <td>1.430000</td>\n",
       "      <td>0.726667</td>\n",
       "      <td>0.626667</td>\n",
       "      <td>0.810000</td>\n",
       "      <td>0.783333</td>\n",
       "      <td>0.190000</td>\n",
       "      <td>0.470000</td>\n",
       "      <td>...</td>\n",
       "      <td>0.560000</td>\n",
       "      <td>0.670000</td>\n",
       "      <td>0.553333</td>\n",
       "      <td>0.653333</td>\n",
       "      <td>-248.0000</td>\n",
       "      <td>0.0</td>\n",
       "      <td>-0.250</td>\n",
       "      <td>0.52</td>\n",
       "      <td>0.140</td>\n",
       "      <td>0.66</td>\n",
       "    </tr>\n",
       "    <tr>\n",
       "      <th>2</th>\n",
       "      <td>1.130000</td>\n",
       "      <td>0.143333</td>\n",
       "      <td>0.946667</td>\n",
       "      <td>0.123333</td>\n",
       "      <td>0.080000</td>\n",
       "      <td>0.836667</td>\n",
       "      <td>0.056667</td>\n",
       "      <td>0.756667</td>\n",
       "      <td>0.226667</td>\n",
       "      <td>0.660000</td>\n",
       "      <td>...</td>\n",
       "      <td>0.763333</td>\n",
       "      <td>0.670000</td>\n",
       "      <td>0.686667</td>\n",
       "      <td>0.673333</td>\n",
       "      <td>-233.1250</td>\n",
       "      <td>0.0</td>\n",
       "      <td>-0.950</td>\n",
       "      <td>1.56</td>\n",
       "      <td>-0.430</td>\n",
       "      <td>-0.51</td>\n",
       "    </tr>\n",
       "    <tr>\n",
       "      <th>3</th>\n",
       "      <td>0.636667</td>\n",
       "      <td>1.090000</td>\n",
       "      <td>0.750000</td>\n",
       "      <td>0.940000</td>\n",
       "      <td>0.743333</td>\n",
       "      <td>0.346667</td>\n",
       "      <td>0.956667</td>\n",
       "      <td>0.633333</td>\n",
       "      <td>0.486667</td>\n",
       "      <td>1.096667</td>\n",
       "      <td>...</td>\n",
       "      <td>0.423333</td>\n",
       "      <td>0.520000</td>\n",
       "      <td>0.846667</td>\n",
       "      <td>0.760000</td>\n",
       "      <td>-249.7775</td>\n",
       "      <td>0.0</td>\n",
       "      <td>0.490</td>\n",
       "      <td>0.70</td>\n",
       "      <td>-0.302</td>\n",
       "      <td>0.72</td>\n",
       "    </tr>\n",
       "    <tr>\n",
       "      <th>4</th>\n",
       "      <td>0.560000</td>\n",
       "      <td>1.013333</td>\n",
       "      <td>0.593333</td>\n",
       "      <td>0.416667</td>\n",
       "      <td>0.773333</td>\n",
       "      <td>0.460000</td>\n",
       "      <td>0.853333</td>\n",
       "      <td>0.796667</td>\n",
       "      <td>0.516667</td>\n",
       "      <td>0.756667</td>\n",
       "      <td>...</td>\n",
       "      <td>0.520000</td>\n",
       "      <td>0.716667</td>\n",
       "      <td>0.706667</td>\n",
       "      <td>0.673333</td>\n",
       "      <td>-247.5775</td>\n",
       "      <td>0.0</td>\n",
       "      <td>0.850</td>\n",
       "      <td>-0.47</td>\n",
       "      <td>-0.630</td>\n",
       "      <td>0.60</td>\n",
       "    </tr>\n",
       "  </tbody>\n",
       "</table>\n",
       "<p>5 rows × 30 columns</p>\n",
       "</div>"
      ],
      "text/plain": [
       "       Per1      Per2      Per3      Per4      Per5      Per6      Per7  \\\n",
       "0  1.070000  0.580000  0.480000  0.766667  1.233333  1.993333  0.340000   \n",
       "1  0.473333  1.206667  0.883333  1.430000  0.726667  0.626667  0.810000   \n",
       "2  1.130000  0.143333  0.946667  0.123333  0.080000  0.836667  0.056667   \n",
       "3  0.636667  1.090000  0.750000  0.940000  0.743333  0.346667  0.956667   \n",
       "4  0.560000  1.013333  0.593333  0.416667  0.773333  0.460000  0.853333   \n",
       "\n",
       "       Per8      Per9      Dem1  ...     Cred3     Cred4     Cred5     Cred6  \\\n",
       "0  1.010000  0.863333  0.460000  ...  0.933333  0.603333  0.686667  0.673333   \n",
       "1  0.783333  0.190000  0.470000  ...  0.560000  0.670000  0.553333  0.653333   \n",
       "2  0.756667  0.226667  0.660000  ...  0.763333  0.670000  0.686667  0.673333   \n",
       "3  0.633333  0.486667  1.096667  ...  0.423333  0.520000  0.846667  0.760000   \n",
       "4  0.796667  0.516667  0.756667  ...  0.520000  0.716667  0.706667  0.673333   \n",
       "\n",
       "   Normalised_FNT  Target  geo_score  instance_scores  qsets_normalized_tat  \\\n",
       "0       -245.7500     0.0      0.256            -0.06                -0.700   \n",
       "1       -248.0000     0.0     -0.250             0.52                 0.140   \n",
       "2       -233.1250     0.0     -0.950             1.56                -0.430   \n",
       "3       -249.7775     0.0      0.490             0.70                -0.302   \n",
       "4       -247.5775     0.0      0.850            -0.47                -0.630   \n",
       "\n",
       "   lambda_wt  \n",
       "0      -0.13  \n",
       "1       0.66  \n",
       "2      -0.51  \n",
       "3       0.72  \n",
       "4       0.60  \n",
       "\n",
       "[5 rows x 30 columns]"
      ]
     },
     "execution_count": 65,
     "metadata": {},
     "output_type": "execute_result"
    }
   ],
   "source": [
    "Train_data.head(5)"
   ]
  },
  {
   "cell_type": "markdown",
   "id": "f7314fbf-4e43-4916-8481-262f36f881a5",
   "metadata": {},
   "source": [
    "## Feature Importance"
   ]
  },
  {
   "cell_type": "markdown",
   "id": "82a3be87-1c24-4042-9ce0-a54312e37cd3",
   "metadata": {},
   "source": [
    "### Random Forest feature importance"
   ]
  },
  {
   "cell_type": "code",
   "execution_count": 66,
   "id": "f041cd6d-5be2-46e2-b036-7b0d9bbf2cac",
   "metadata": {},
   "outputs": [],
   "source": [
    "from sklearn.ensemble import RandomForestClassifier\n",
    "\n",
    "rf_label= RandomForestClassifier(n_estimators=100, random_state=10)\n",
    "rf_label.fit(x_train,y_train)\n",
    "\n",
    "fi_df2 = pd.DataFrame({\n",
    "    'feature': x_train.columns,\n",
    "    'rf_importance': rf_label.feature_importances_\n",
    "}).sort_values(by='rf_importance', ascending=False)"
   ]
  },
  {
   "cell_type": "code",
   "execution_count": 67,
   "id": "17a8ef2f-fa6a-41c8-99d4-0caea193312c",
   "metadata": {},
   "outputs": [
    {
     "data": {
      "text/html": [
       "<div>\n",
       "<style scoped>\n",
       "    .dataframe tbody tr th:only-of-type {\n",
       "        vertical-align: middle;\n",
       "    }\n",
       "\n",
       "    .dataframe tbody tr th {\n",
       "        vertical-align: top;\n",
       "    }\n",
       "\n",
       "    .dataframe thead th {\n",
       "        text-align: right;\n",
       "    }\n",
       "</style>\n",
       "<table border=\"1\" class=\"dataframe\">\n",
       "  <thead>\n",
       "    <tr style=\"text-align: right;\">\n",
       "      <th></th>\n",
       "      <th>feature</th>\n",
       "      <th>rf_importance</th>\n",
       "    </tr>\n",
       "  </thead>\n",
       "  <tbody>\n",
       "    <tr>\n",
       "      <th>27</th>\n",
       "      <td>qsets_normalized_tat</td>\n",
       "      <td>0.096694</td>\n",
       "    </tr>\n",
       "    <tr>\n",
       "      <th>6</th>\n",
       "      <td>Per7</td>\n",
       "      <td>0.075097</td>\n",
       "    </tr>\n",
       "    <tr>\n",
       "      <th>12</th>\n",
       "      <td>Dem4</td>\n",
       "      <td>0.073084</td>\n",
       "    </tr>\n",
       "    <tr>\n",
       "      <th>8</th>\n",
       "      <td>Per9</td>\n",
       "      <td>0.072675</td>\n",
       "    </tr>\n",
       "    <tr>\n",
       "      <th>25</th>\n",
       "      <td>geo_score</td>\n",
       "      <td>0.070138</td>\n",
       "    </tr>\n",
       "    <tr>\n",
       "      <th>26</th>\n",
       "      <td>instance_scores</td>\n",
       "      <td>0.069143</td>\n",
       "    </tr>\n",
       "    <tr>\n",
       "      <th>3</th>\n",
       "      <td>Per4</td>\n",
       "      <td>0.062792</td>\n",
       "    </tr>\n",
       "    <tr>\n",
       "      <th>9</th>\n",
       "      <td>Dem1</td>\n",
       "      <td>0.061893</td>\n",
       "    </tr>\n",
       "    <tr>\n",
       "      <th>28</th>\n",
       "      <td>lambda_wt</td>\n",
       "      <td>0.045492</td>\n",
       "    </tr>\n",
       "    <tr>\n",
       "      <th>2</th>\n",
       "      <td>Per3</td>\n",
       "      <td>0.038807</td>\n",
       "    </tr>\n",
       "    <tr>\n",
       "      <th>13</th>\n",
       "      <td>Dem5</td>\n",
       "      <td>0.031963</td>\n",
       "    </tr>\n",
       "    <tr>\n",
       "      <th>21</th>\n",
       "      <td>Cred4</td>\n",
       "      <td>0.022796</td>\n",
       "    </tr>\n",
       "    <tr>\n",
       "      <th>16</th>\n",
       "      <td>Dem8</td>\n",
       "      <td>0.022600</td>\n",
       "    </tr>\n",
       "    <tr>\n",
       "      <th>5</th>\n",
       "      <td>Per6</td>\n",
       "      <td>0.021318</td>\n",
       "    </tr>\n",
       "    <tr>\n",
       "      <th>1</th>\n",
       "      <td>Per2</td>\n",
       "      <td>0.020765</td>\n",
       "    </tr>\n",
       "    <tr>\n",
       "      <th>4</th>\n",
       "      <td>Per5</td>\n",
       "      <td>0.020760</td>\n",
       "    </tr>\n",
       "    <tr>\n",
       "      <th>17</th>\n",
       "      <td>Dem9</td>\n",
       "      <td>0.019840</td>\n",
       "    </tr>\n",
       "    <tr>\n",
       "      <th>24</th>\n",
       "      <td>Normalised_FNT</td>\n",
       "      <td>0.019136</td>\n",
       "    </tr>\n",
       "    <tr>\n",
       "      <th>14</th>\n",
       "      <td>Dem6</td>\n",
       "      <td>0.019068</td>\n",
       "    </tr>\n",
       "    <tr>\n",
       "      <th>19</th>\n",
       "      <td>Cred2</td>\n",
       "      <td>0.016925</td>\n",
       "    </tr>\n",
       "    <tr>\n",
       "      <th>0</th>\n",
       "      <td>Per1</td>\n",
       "      <td>0.016004</td>\n",
       "    </tr>\n",
       "    <tr>\n",
       "      <th>10</th>\n",
       "      <td>Dem2</td>\n",
       "      <td>0.015754</td>\n",
       "    </tr>\n",
       "    <tr>\n",
       "      <th>11</th>\n",
       "      <td>Dem3</td>\n",
       "      <td>0.014787</td>\n",
       "    </tr>\n",
       "    <tr>\n",
       "      <th>7</th>\n",
       "      <td>Per8</td>\n",
       "      <td>0.014653</td>\n",
       "    </tr>\n",
       "    <tr>\n",
       "      <th>22</th>\n",
       "      <td>Cred5</td>\n",
       "      <td>0.013540</td>\n",
       "    </tr>\n",
       "    <tr>\n",
       "      <th>20</th>\n",
       "      <td>Cred3</td>\n",
       "      <td>0.013466</td>\n",
       "    </tr>\n",
       "    <tr>\n",
       "      <th>15</th>\n",
       "      <td>Dem7</td>\n",
       "      <td>0.012232</td>\n",
       "    </tr>\n",
       "    <tr>\n",
       "      <th>23</th>\n",
       "      <td>Cred6</td>\n",
       "      <td>0.010961</td>\n",
       "    </tr>\n",
       "    <tr>\n",
       "      <th>18</th>\n",
       "      <td>Cred1</td>\n",
       "      <td>0.007618</td>\n",
       "    </tr>\n",
       "  </tbody>\n",
       "</table>\n",
       "</div>"
      ],
      "text/plain": [
       "                 feature  rf_importance\n",
       "27  qsets_normalized_tat       0.096694\n",
       "6                   Per7       0.075097\n",
       "12                  Dem4       0.073084\n",
       "8                   Per9       0.072675\n",
       "25             geo_score       0.070138\n",
       "26       instance_scores       0.069143\n",
       "3                   Per4       0.062792\n",
       "9                   Dem1       0.061893\n",
       "28             lambda_wt       0.045492\n",
       "2                   Per3       0.038807\n",
       "13                  Dem5       0.031963\n",
       "21                 Cred4       0.022796\n",
       "16                  Dem8       0.022600\n",
       "5                   Per6       0.021318\n",
       "1                   Per2       0.020765\n",
       "4                   Per5       0.020760\n",
       "17                  Dem9       0.019840\n",
       "24        Normalised_FNT       0.019136\n",
       "14                  Dem6       0.019068\n",
       "19                 Cred2       0.016925\n",
       "0                   Per1       0.016004\n",
       "10                  Dem2       0.015754\n",
       "11                  Dem3       0.014787\n",
       "7                   Per8       0.014653\n",
       "22                 Cred5       0.013540\n",
       "20                 Cred3       0.013466\n",
       "15                  Dem7       0.012232\n",
       "23                 Cred6       0.010961\n",
       "18                 Cred1       0.007618"
      ]
     },
     "execution_count": 67,
     "metadata": {},
     "output_type": "execute_result"
    }
   ],
   "source": [
    "fi_df2\n"
   ]
  },
  {
   "cell_type": "code",
   "execution_count": 68,
   "id": "c85cf05c-58e8-4bb6-afc3-96d7f8f926d4",
   "metadata": {},
   "outputs": [
    {
     "name": "stdout",
     "output_type": "stream",
     "text": [
      "(227845, 29)\n"
     ]
    },
    {
     "data": {
      "text/html": [
       "<div>\n",
       "<style scoped>\n",
       "    .dataframe tbody tr th:only-of-type {\n",
       "        vertical-align: middle;\n",
       "    }\n",
       "\n",
       "    .dataframe tbody tr th {\n",
       "        vertical-align: top;\n",
       "    }\n",
       "\n",
       "    .dataframe thead th {\n",
       "        text-align: right;\n",
       "    }\n",
       "</style>\n",
       "<table border=\"1\" class=\"dataframe\">\n",
       "  <thead>\n",
       "    <tr style=\"text-align: right;\">\n",
       "      <th></th>\n",
       "      <th>Per1</th>\n",
       "      <th>Per2</th>\n",
       "      <th>Per3</th>\n",
       "      <th>Per4</th>\n",
       "      <th>Per5</th>\n",
       "      <th>Per6</th>\n",
       "      <th>Per7</th>\n",
       "      <th>Per8</th>\n",
       "      <th>Per9</th>\n",
       "      <th>Dem1</th>\n",
       "      <th>...</th>\n",
       "      <th>Cred2</th>\n",
       "      <th>Cred3</th>\n",
       "      <th>Cred4</th>\n",
       "      <th>Cred5</th>\n",
       "      <th>Cred6</th>\n",
       "      <th>Normalised_FNT</th>\n",
       "      <th>geo_score</th>\n",
       "      <th>instance_scores</th>\n",
       "      <th>qsets_normalized_tat</th>\n",
       "      <th>lambda_wt</th>\n",
       "    </tr>\n",
       "  </thead>\n",
       "  <tbody>\n",
       "    <tr>\n",
       "      <th>0</th>\n",
       "      <td>1.070000</td>\n",
       "      <td>0.580000</td>\n",
       "      <td>0.480000</td>\n",
       "      <td>0.766667</td>\n",
       "      <td>1.233333</td>\n",
       "      <td>1.720000</td>\n",
       "      <td>0.340000</td>\n",
       "      <td>1.010000</td>\n",
       "      <td>0.863333</td>\n",
       "      <td>0.460000</td>\n",
       "      <td>...</td>\n",
       "      <td>1.010000</td>\n",
       "      <td>0.933333</td>\n",
       "      <td>0.603333</td>\n",
       "      <td>0.686667</td>\n",
       "      <td>0.673333</td>\n",
       "      <td>-245.7500</td>\n",
       "      <td>0.256</td>\n",
       "      <td>-0.06</td>\n",
       "      <td>-0.700</td>\n",
       "      <td>-0.13</td>\n",
       "    </tr>\n",
       "    <tr>\n",
       "      <th>1</th>\n",
       "      <td>0.473333</td>\n",
       "      <td>1.206667</td>\n",
       "      <td>0.883333</td>\n",
       "      <td>1.430000</td>\n",
       "      <td>0.726667</td>\n",
       "      <td>0.626667</td>\n",
       "      <td>0.810000</td>\n",
       "      <td>0.783333</td>\n",
       "      <td>0.190000</td>\n",
       "      <td>0.470000</td>\n",
       "      <td>...</td>\n",
       "      <td>0.690000</td>\n",
       "      <td>0.560000</td>\n",
       "      <td>0.670000</td>\n",
       "      <td>0.526667</td>\n",
       "      <td>0.653333</td>\n",
       "      <td>-248.0000</td>\n",
       "      <td>-0.250</td>\n",
       "      <td>0.52</td>\n",
       "      <td>0.140</td>\n",
       "      <td>0.66</td>\n",
       "    </tr>\n",
       "    <tr>\n",
       "      <th>2</th>\n",
       "      <td>1.130000</td>\n",
       "      <td>0.143333</td>\n",
       "      <td>0.946667</td>\n",
       "      <td>0.123333</td>\n",
       "      <td>0.080000</td>\n",
       "      <td>0.836667</td>\n",
       "      <td>0.056667</td>\n",
       "      <td>0.756667</td>\n",
       "      <td>0.226667</td>\n",
       "      <td>0.660000</td>\n",
       "      <td>...</td>\n",
       "      <td>0.383333</td>\n",
       "      <td>0.763333</td>\n",
       "      <td>0.670000</td>\n",
       "      <td>0.686667</td>\n",
       "      <td>0.673333</td>\n",
       "      <td>-233.1250</td>\n",
       "      <td>-0.950</td>\n",
       "      <td>1.56</td>\n",
       "      <td>-0.430</td>\n",
       "      <td>-0.51</td>\n",
       "    </tr>\n",
       "    <tr>\n",
       "      <th>3</th>\n",
       "      <td>0.636667</td>\n",
       "      <td>1.090000</td>\n",
       "      <td>0.750000</td>\n",
       "      <td>0.940000</td>\n",
       "      <td>0.743333</td>\n",
       "      <td>0.346667</td>\n",
       "      <td>0.956667</td>\n",
       "      <td>0.633333</td>\n",
       "      <td>0.486667</td>\n",
       "      <td>1.096667</td>\n",
       "      <td>...</td>\n",
       "      <td>0.846667</td>\n",
       "      <td>0.423333</td>\n",
       "      <td>0.520000</td>\n",
       "      <td>0.796667</td>\n",
       "      <td>0.753333</td>\n",
       "      <td>-249.7775</td>\n",
       "      <td>0.490</td>\n",
       "      <td>0.70</td>\n",
       "      <td>-0.302</td>\n",
       "      <td>0.72</td>\n",
       "    </tr>\n",
       "    <tr>\n",
       "      <th>4</th>\n",
       "      <td>0.560000</td>\n",
       "      <td>1.013333</td>\n",
       "      <td>0.593333</td>\n",
       "      <td>0.416667</td>\n",
       "      <td>0.773333</td>\n",
       "      <td>0.460000</td>\n",
       "      <td>0.853333</td>\n",
       "      <td>0.796667</td>\n",
       "      <td>0.516667</td>\n",
       "      <td>0.756667</td>\n",
       "      <td>...</td>\n",
       "      <td>0.526667</td>\n",
       "      <td>0.520000</td>\n",
       "      <td>0.716667</td>\n",
       "      <td>0.706667</td>\n",
       "      <td>0.673333</td>\n",
       "      <td>-247.5775</td>\n",
       "      <td>0.850</td>\n",
       "      <td>-0.47</td>\n",
       "      <td>-0.630</td>\n",
       "      <td>0.60</td>\n",
       "    </tr>\n",
       "  </tbody>\n",
       "</table>\n",
       "<p>5 rows × 29 columns</p>\n",
       "</div>"
      ],
      "text/plain": [
       "       Per1      Per2      Per3      Per4      Per5      Per6      Per7  \\\n",
       "0  1.070000  0.580000  0.480000  0.766667  1.233333  1.720000  0.340000   \n",
       "1  0.473333  1.206667  0.883333  1.430000  0.726667  0.626667  0.810000   \n",
       "2  1.130000  0.143333  0.946667  0.123333  0.080000  0.836667  0.056667   \n",
       "3  0.636667  1.090000  0.750000  0.940000  0.743333  0.346667  0.956667   \n",
       "4  0.560000  1.013333  0.593333  0.416667  0.773333  0.460000  0.853333   \n",
       "\n",
       "       Per8      Per9      Dem1  ...     Cred2     Cred3     Cred4     Cred5  \\\n",
       "0  1.010000  0.863333  0.460000  ...  1.010000  0.933333  0.603333  0.686667   \n",
       "1  0.783333  0.190000  0.470000  ...  0.690000  0.560000  0.670000  0.526667   \n",
       "2  0.756667  0.226667  0.660000  ...  0.383333  0.763333  0.670000  0.686667   \n",
       "3  0.633333  0.486667  1.096667  ...  0.846667  0.423333  0.520000  0.796667   \n",
       "4  0.796667  0.516667  0.756667  ...  0.526667  0.520000  0.716667  0.706667   \n",
       "\n",
       "      Cred6  Normalised_FNT  geo_score  instance_scores  qsets_normalized_tat  \\\n",
       "0  0.673333       -245.7500      0.256            -0.06                -0.700   \n",
       "1  0.653333       -248.0000     -0.250             0.52                 0.140   \n",
       "2  0.673333       -233.1250     -0.950             1.56                -0.430   \n",
       "3  0.753333       -249.7775      0.490             0.70                -0.302   \n",
       "4  0.673333       -247.5775      0.850            -0.47                -0.630   \n",
       "\n",
       "   lambda_wt  \n",
       "0      -0.13  \n",
       "1       0.66  \n",
       "2      -0.51  \n",
       "3       0.72  \n",
       "4       0.60  \n",
       "\n",
       "[5 rows x 29 columns]"
      ]
     },
     "execution_count": 68,
     "metadata": {},
     "output_type": "execute_result"
    }
   ],
   "source": [
    "print(x_train.shape)\n",
    "x_train.head(5)"
   ]
  },
  {
   "cell_type": "code",
   "execution_count": 69,
   "id": "a413d611-d3c3-484a-9768-f61d99c3efd7",
   "metadata": {},
   "outputs": [
    {
     "name": "stdout",
     "output_type": "stream",
     "text": [
      "(227845,)\n"
     ]
    },
    {
     "data": {
      "text/plain": [
       "0    0.0\n",
       "1    0.0\n",
       "2    0.0\n",
       "3    0.0\n",
       "4    0.0\n",
       "Name: Target, dtype: float64"
      ]
     },
     "execution_count": 69,
     "metadata": {},
     "output_type": "execute_result"
    }
   ],
   "source": [
    "print(y_train.shape)\n",
    "y_train.head(5)"
   ]
  },
  {
   "cell_type": "markdown",
   "id": "06ddf2c3-f821-45f4-8f79-6284bd274e9f",
   "metadata": {},
   "source": [
    "# Model building"
   ]
  },
  {
   "cell_type": "code",
   "execution_count": 70,
   "id": "cb9965f0-d73f-44c5-9d17-81fa095102f6",
   "metadata": {},
   "outputs": [],
   "source": [
    "from sklearn.model_selection import train_test_split\n",
    "X_train, X_test, Y_train, Y_test = train_test_split(x_train, y_train, test_size=0.2, random_state=101)"
   ]
  },
  {
   "cell_type": "code",
   "execution_count": 71,
   "id": "3a9f9ec8-2dff-4386-9a61-b759df08d621",
   "metadata": {},
   "outputs": [
    {
     "name": "stdout",
     "output_type": "stream",
     "text": [
      "(182276, 29)\n",
      "\n",
      "(45569, 29)\n",
      "\n",
      "(182276,)\n",
      "\n",
      "(45569,)\n",
      "\n"
     ]
    }
   ],
   "source": [
    "print(X_train.shape)\n",
    "print()\n",
    "print(X_test.shape)\n",
    "print()\n",
    "print(Y_train.shape)\n",
    "print()\n",
    "print(Y_test.shape)\n",
    "print()"
   ]
  },
  {
   "cell_type": "markdown",
   "id": "627facbd-0fae-42e4-9042-c9b208192b12",
   "metadata": {},
   "source": [
    "## Logistic Regression"
   ]
  },
  {
   "cell_type": "code",
   "execution_count": 72,
   "id": "e29b434c-99fc-4b6e-bf4f-029c21ef56ee",
   "metadata": {},
   "outputs": [],
   "source": [
    "from sklearn.metrics import confusion_matrix, classification_report, accuracy_score\n",
    "from sklearn.linear_model import LogisticRegression"
   ]
  },
  {
   "cell_type": "code",
   "execution_count": 73,
   "id": "1927e15c-3516-46ce-b547-8a427fc9b082",
   "metadata": {},
   "outputs": [
    {
     "name": "stdout",
     "output_type": "stream",
     "text": [
      "[[181905     40]\n",
      " [    77    254]]\n",
      "\n",
      "[[45495    11]\n",
      " [   17    46]]\n",
      "\n",
      "              precision    recall  f1-score   support\n",
      "\n",
      "         0.0       1.00      1.00      1.00    181945\n",
      "         1.0       0.86      0.77      0.81       331\n",
      "\n",
      "    accuracy                           1.00    182276\n",
      "   macro avg       0.93      0.88      0.91    182276\n",
      "weighted avg       1.00      1.00      1.00    182276\n",
      "\n",
      "\n",
      "              precision    recall  f1-score   support\n",
      "\n",
      "         0.0       1.00      1.00      1.00     45506\n",
      "         1.0       0.81      0.73      0.77        63\n",
      "\n",
      "    accuracy                           1.00     45569\n",
      "   macro avg       0.90      0.86      0.88     45569\n",
      "weighted avg       1.00      1.00      1.00     45569\n",
      "\n",
      "\n",
      "Train Accuracy 0.9993581162632491\n",
      "\n",
      "Test Accuracy 0.9993855471921701\n"
     ]
    }
   ],
   "source": [
    "logit = LogisticRegression()\n",
    "lr = logit.fit(X_train, Y_train)\n",
    "Y_pred_train = logit.predict(X_train)\n",
    "Y_pred_test = logit.predict(X_test)\n",
    "# Confusion Matrix\n",
    "print(confusion_matrix(Y_train, Y_pred_train))\n",
    "print()\n",
    "print(confusion_matrix(Y_test, Y_pred_test))\n",
    "print()\n",
    "print(classification_report(Y_train, Y_pred_train))\n",
    "print()\n",
    "print(classification_report(Y_test, Y_pred_test))\n",
    "print()\n",
    "print(\"Train Accuracy\", accuracy_score(Y_train, Y_pred_train))\n",
    "print()\n",
    "print(\"Test Accuracy\", accuracy_score(Y_test, Y_pred_test))"
   ]
  },
  {
   "cell_type": "code",
   "execution_count": 74,
   "id": "d23817e6-093a-4fa7-b5cb-d90d0e871d6c",
   "metadata": {},
   "outputs": [
    {
     "data": {
      "text/plain": [
       "array([0., 0., 0., ..., 0., 0., 0.])"
      ]
     },
     "execution_count": 74,
     "metadata": {},
     "output_type": "execute_result"
    }
   ],
   "source": [
    "Test_data_pred = logit.predict(Test_data)\n",
    "Test_data_pred"
   ]
  },
  {
   "cell_type": "code",
   "execution_count": 75,
   "id": "e6f3048c-4d8d-4b2b-8120-c2c87445d11a",
   "metadata": {},
   "outputs": [
    {
     "data": {
      "text/plain": [
       "Target\n",
       "0.0    227451\n",
       "1.0       394\n",
       "Name: count, dtype: int64"
      ]
     },
     "execution_count": 75,
     "metadata": {},
     "output_type": "execute_result"
    }
   ],
   "source": [
    "y_train.value_counts()"
   ]
  },
  {
   "cell_type": "markdown",
   "id": "1f19e2e2-7c67-4d8e-bbf2-74e8c9dcdf20",
   "metadata": {},
   "source": [
    "## Descision Tree Classifier"
   ]
  },
  {
   "cell_type": "code",
   "execution_count": 76,
   "id": "ccb80a2b-f62d-4dbd-938a-d5c108c63fb7",
   "metadata": {},
   "outputs": [
    {
     "name": "stdout",
     "output_type": "stream",
     "text": [
      "[[181945      0]\n",
      " [     0    331]]\n",
      "\n",
      "[[45474    32]\n",
      " [   18    45]]\n",
      "\n",
      "              precision    recall  f1-score   support\n",
      "\n",
      "         0.0       1.00      1.00      1.00    181945\n",
      "         1.0       1.00      1.00      1.00       331\n",
      "\n",
      "    accuracy                           1.00    182276\n",
      "   macro avg       1.00      1.00      1.00    182276\n",
      "weighted avg       1.00      1.00      1.00    182276\n",
      "\n",
      "\n",
      "              precision    recall  f1-score   support\n",
      "\n",
      "         0.0       1.00      1.00      1.00     45506\n",
      "         1.0       0.58      0.71      0.64        63\n",
      "\n",
      "    accuracy                           1.00     45569\n",
      "   macro avg       0.79      0.86      0.82     45569\n",
      "weighted avg       1.00      1.00      1.00     45569\n",
      "\n",
      "\n",
      "Train Accuracy 1.0\n",
      "\n",
      "Test Accuracy 0.9989027628431609\n"
     ]
    }
   ],
   "source": [
    "from sklearn.tree import DecisionTreeClassifier\n",
    "dtree = DecisionTreeClassifier()\n",
    "dt = dtree.fit(X_train, Y_train)\n",
    "Y_pred_train_dt = dtree.predict(X_train)\n",
    "Y_pred_test_dt = dtree.predict(X_test)\n",
    "# Confusion Matrix\n",
    "print(confusion_matrix(Y_train, Y_pred_train_dt))\n",
    "print()\n",
    "print(confusion_matrix(Y_test, Y_pred_test_dt))\n",
    "print()\n",
    "# Classifiction_report\n",
    "print(classification_report(Y_train, Y_pred_train_dt))\n",
    "print()\n",
    "print(classification_report(Y_test, Y_pred_test_dt))\n",
    "print()\n",
    "# Accuracy_score\n",
    "print(\"Train Accuracy\", accuracy_score(Y_train, Y_pred_train_dt))\n",
    "print()\n",
    "print(\"Test Accuracy\", accuracy_score(Y_test, Y_pred_test_dt))"
   ]
  },
  {
   "cell_type": "markdown",
   "id": "71328cf3-6464-44bd-a9b0-d411c5034e4c",
   "metadata": {},
   "source": [
    "## Random Forest Classifier"
   ]
  },
  {
   "cell_type": "code",
   "execution_count": 77,
   "id": "168377e6-5da0-4ea4-a68a-990a99670215",
   "metadata": {},
   "outputs": [
    {
     "name": "stdout",
     "output_type": "stream",
     "text": [
      "[[181945      0]\n",
      " [     1    330]]\n",
      "\n",
      "[[45504     2]\n",
      " [   17    46]]\n",
      "\n",
      "              precision    recall  f1-score   support\n",
      "\n",
      "         0.0       1.00      1.00      1.00    181945\n",
      "         1.0       1.00      1.00      1.00       331\n",
      "\n",
      "    accuracy                           1.00    182276\n",
      "   macro avg       1.00      1.00      1.00    182276\n",
      "weighted avg       1.00      1.00      1.00    182276\n",
      "\n",
      "\n",
      "              precision    recall  f1-score   support\n",
      "\n",
      "         0.0       1.00      1.00      1.00     45506\n",
      "         1.0       0.96      0.73      0.83        63\n",
      "\n",
      "    accuracy                           1.00     45569\n",
      "   macro avg       0.98      0.87      0.91     45569\n",
      "weighted avg       1.00      1.00      1.00     45569\n",
      "\n",
      "\n",
      "Train Accuracy 0.9999945138142158\n",
      "\n",
      "Test Accuracy 0.9995830498804011\n"
     ]
    }
   ],
   "source": [
    "from sklearn.ensemble import RandomForestClassifier\n",
    "randf = RandomForestClassifier()\n",
    "rf = randf.fit(X_train, Y_train)\n",
    "Y_pred_train_rf = randf.predict(X_train)\n",
    "Y_pred_test_rf = randf.predict(X_test)\n",
    "# Confusion Matrix\n",
    "print(confusion_matrix(Y_train, Y_pred_train_rf))\n",
    "print()\n",
    "print(confusion_matrix(Y_test, Y_pred_test_rf))\n",
    "print()\n",
    "# Classifiction_report\n",
    "print(classification_report(Y_train, Y_pred_train_rf))\n",
    "print()\n",
    "print(classification_report(Y_test, Y_pred_test_rf))\n",
    "print()\n",
    "# Accuracy_score\n",
    "print(\"Train Accuracy\", accuracy_score(Y_train, Y_pred_train_rf))\n",
    "print()\n",
    "print(\"Test Accuracy\", accuracy_score(Y_test, Y_pred_test_rf))"
   ]
  },
  {
   "cell_type": "markdown",
   "id": "e50c5ac3-32ec-4dfa-8d81-0374716a4408",
   "metadata": {},
   "source": [
    "## Support Vector Machine"
   ]
  },
  {
   "cell_type": "code",
   "execution_count": 78,
   "id": "04881ec6-7f88-4574-a839-5614067ba35e",
   "metadata": {},
   "outputs": [
    {
     "name": "stdout",
     "output_type": "stream",
     "text": [
      "[[181945      0]\n",
      " [   331      0]]\n",
      "\n",
      "[[45506     0]\n",
      " [   63     0]]\n",
      "\n",
      "              precision    recall  f1-score   support\n",
      "\n",
      "         0.0       1.00      1.00      1.00    181945\n",
      "         1.0       0.00      0.00      0.00       331\n",
      "\n",
      "    accuracy                           1.00    182276\n",
      "   macro avg       0.50      0.50      0.50    182276\n",
      "weighted avg       1.00      1.00      1.00    182276\n",
      "\n",
      "\n",
      "              precision    recall  f1-score   support\n",
      "\n",
      "         0.0       1.00      1.00      1.00     45506\n",
      "         1.0       0.00      0.00      0.00        63\n",
      "\n",
      "    accuracy                           1.00     45569\n",
      "   macro avg       0.50      0.50      0.50     45569\n",
      "weighted avg       1.00      1.00      1.00     45569\n",
      "\n",
      "\n",
      "Train Accuracy 0.9981840725054313\n",
      "\n",
      "Test Accuracy 0.9986174811823828\n"
     ]
    }
   ],
   "source": [
    "from sklearn.svm import SVC\n",
    "SVClass = SVC()\n",
    "svm = SVClass.fit(X_train, Y_train)\n",
    "Y_pred_train_svm = SVClass.predict(X_train)\n",
    "Y_pred_test_svm = SVClass.predict(X_test)\n",
    "# Confusion Matrix\n",
    "print(confusion_matrix(Y_train, Y_pred_train_svm))\n",
    "print()\n",
    "print(confusion_matrix(Y_test, Y_pred_test_svm))\n",
    "print()\n",
    "# classification_report\n",
    "print(classification_report(Y_train, Y_pred_train_svm))\n",
    "print()\n",
    "print(classification_report(Y_test, Y_pred_test_svm))\n",
    "print()\n",
    "# accuracy_score\n",
    "print(\"Train Accuracy\", accuracy_score(Y_train, Y_pred_train_svm))\n",
    "print()\n",
    "print(\"Test Accuracy\", accuracy_score(Y_test, Y_pred_test_svm))"
   ]
  },
  {
   "cell_type": "markdown",
   "id": "60be9a5b-877d-4d07-83b0-c1dfb7c0cea0",
   "metadata": {},
   "source": [
    "## XGBoost Classifier"
   ]
  },
  {
   "cell_type": "code",
   "execution_count": 81,
   "id": "372b7255-aed0-4847-9c58-2cd09382887f",
   "metadata": {},
   "outputs": [
    {
     "name": "stdout",
     "output_type": "stream",
     "text": [
      "[[181945      0]\n",
      " [     0    331]]\n",
      "\n",
      "[[45500     6]\n",
      " [   16    47]]\n",
      "\n",
      "              precision    recall  f1-score   support\n",
      "\n",
      "         0.0       1.00      1.00      1.00    181945\n",
      "         1.0       1.00      1.00      1.00       331\n",
      "\n",
      "    accuracy                           1.00    182276\n",
      "   macro avg       1.00      1.00      1.00    182276\n",
      "weighted avg       1.00      1.00      1.00    182276\n",
      "\n",
      "\n",
      "              precision    recall  f1-score   support\n",
      "\n",
      "         0.0       1.00      1.00      1.00     45506\n",
      "         1.0       0.89      0.75      0.81        63\n",
      "\n",
      "    accuracy                           1.00     45569\n",
      "   macro avg       0.94      0.87      0.91     45569\n",
      "weighted avg       1.00      1.00      1.00     45569\n",
      "\n",
      "\n",
      "Train Accuracy 1.0\n",
      "\n",
      "Test Accuracy 0.9995172156509908\n"
     ]
    }
   ],
   "source": [
    "from xgboost import XGBClassifier\n",
    "xgboost = XGBClassifier()\n",
    "xgb = xgboost.fit(X_train, Y_train)\n",
    "Y_pred_train_xgb = xgboost.predict(X_train)\n",
    "Y_pred_test_xgb = xgboost.predict(X_test)\n",
    "# Confusion Matrix\n",
    "print(confusion_matrix(Y_train, Y_pred_train_xgb))\n",
    "print()\n",
    "print(confusion_matrix(Y_test, Y_pred_test_xgb))\n",
    "print()\n",
    "# classification_report\n",
    "print(classification_report(Y_train, Y_pred_train_xgb))\n",
    "print()\n",
    "print(classification_report(Y_test, Y_pred_test_xgb))\n",
    "print()\n",
    "# accuracy_score\n",
    "print(\"Train Accuracy\", accuracy_score(Y_train, Y_pred_train_xgb))\n",
    "print()\n",
    "print(\"Test Accuracy\", accuracy_score(Y_test, Y_pred_test_xgb))"
   ]
  },
  {
   "cell_type": "markdown",
   "id": "0c01e31f-4f80-4454-9e3d-762b3e8805d2",
   "metadata": {},
   "source": [
    "## Voting Classifier"
   ]
  },
  {
   "cell_type": "code",
   "execution_count": 82,
   "id": "26f697d3-7fb7-450a-9f9b-fb8b4847a922",
   "metadata": {},
   "outputs": [],
   "source": [
    "from sklearn.ensemble import VotingClassifier"
   ]
  },
  {
   "cell_type": "code",
   "execution_count": 83,
   "id": "47987481-44b2-4ed5-87fd-5b967c67b679",
   "metadata": {},
   "outputs": [
    {
     "name": "stdout",
     "output_type": "stream",
     "text": [
      "[[181945      0]\n",
      " [     0    331]]\n",
      "\n",
      "[[45504     2]\n",
      " [   17    46]]\n",
      "\n",
      "              precision    recall  f1-score   support\n",
      "\n",
      "         0.0       1.00      1.00      1.00    181945\n",
      "         1.0       1.00      1.00      1.00       331\n",
      "\n",
      "    accuracy                           1.00    182276\n",
      "   macro avg       1.00      1.00      1.00    182276\n",
      "weighted avg       1.00      1.00      1.00    182276\n",
      "\n",
      "\n",
      "              precision    recall  f1-score   support\n",
      "\n",
      "         0.0       1.00      1.00      1.00     45506\n",
      "         1.0       0.96      0.73      0.83        63\n",
      "\n",
      "    accuracy                           1.00     45569\n",
      "   macro avg       0.98      0.87      0.91     45569\n",
      "weighted avg       1.00      1.00      1.00     45569\n",
      "\n",
      "\n",
      "Train Accuracy 1.0\n",
      "\n",
      "Test Accuracy 0.9995830498804011\n"
     ]
    }
   ],
   "source": [
    "voting = VotingClassifier(estimators=[('logit', lr ),('dtree', dt),('rforest', rf),('xgboost', xgb),\n",
    "                                     (\"svm\", svm)])\n",
    "voting_evc = voting.fit(X_train, Y_train)\n",
    "Y_pred_train_voting = voting.predict(X_train)\n",
    "Y_pred_test_voting = voting.predict(X_test)\n",
    "# Confusion Matrix\n",
    "print(confusion_matrix(Y_train, Y_pred_train_voting))\n",
    "print()\n",
    "print(confusion_matrix(Y_test, Y_pred_test_voting))\n",
    "print()\n",
    "# classification_report\n",
    "print(classification_report(Y_train, Y_pred_train_voting))\n",
    "print()\n",
    "print(classification_report(Y_test, Y_pred_test_voting))\n",
    "print()\n",
    "# accuracy_score\n",
    "print(\"Train Accuracy\", accuracy_score(Y_train, Y_pred_train_voting))\n",
    "print()\n",
    "print(\"Test Accuracy\", accuracy_score(Y_test, Y_pred_test_voting))"
   ]
  },
  {
   "cell_type": "code",
   "execution_count": 89,
   "id": "90577a61-541a-49e3-8afd-ebb68a099c09",
   "metadata": {},
   "outputs": [],
   "source": [
    "accuracy_logit = accuracy_score(Y_test, Y_pred_test)\n",
    "accuracy_dtree = accuracy_score(Y_test, Y_pred_test_dt)\n",
    "accuracy_rf = accuracy_score(Y_test, Y_pred_test_rf)\n",
    "accuracy_xgb = accuracy_score(Y_test, Y_pred_test_xgb)\n",
    "accuracy_svm = accuracy_score(Y_test, Y_pred_test_svm)\n",
    "accuracy_voting = accuracy_score(Y_test, Y_pred_test_voting)"
   ]
  },
  {
   "cell_type": "code",
   "execution_count": 90,
   "id": "9c98d73e-e016-4038-b972-c4f1449c3120",
   "metadata": {},
   "outputs": [
    {
     "name": "stdout",
     "output_type": "stream",
     "text": [
      "  Method Used  Accuracy\n",
      "0    Logistic  0.999386\n",
      "1       Dtree  0.998903\n",
      "2     RForest  0.999583\n",
      "3     XGBoost  0.999517\n",
      "4         SVM  0.998617\n",
      "5      Voting  0.999583\n"
     ]
    }
   ],
   "source": [
    "point1 = [\"Logistic\", 'Dtree','RForest','XGBoost','SVM','Voting']\n",
    "point2 = [accuracy_logit,accuracy_dtree,accuracy_rf,accuracy_xgb,accuracy_svm,accuracy_voting]\n",
    "\n",
    "final_output = pd.DataFrame({\"Method Used\": point1, \"Accuracy\":point2})\n",
    "print(final_output)"
   ]
  },
  {
   "cell_type": "code",
   "execution_count": 91,
   "id": "118631e0-6ea5-4d2c-ab04-8eb93657ac16",
   "metadata": {},
   "outputs": [
    {
     "data": {
      "text/plain": [
       "array([[181945,      0],\n",
       "       [     1,    330]], dtype=int64)"
      ]
     },
     "execution_count": 91,
     "metadata": {},
     "output_type": "execute_result"
    }
   ],
   "source": [
    "confusion_matrix(Y_train,Y_pred_train_rf)"
   ]
  },
  {
   "cell_type": "code",
   "execution_count": 92,
   "id": "7e84a9a6-c3c9-4988-9b96-0a93da07dde7",
   "metadata": {},
   "outputs": [
    {
     "data": {
      "text/plain": [
       "array([[45504,     2],\n",
       "       [   17,    46]], dtype=int64)"
      ]
     },
     "execution_count": 92,
     "metadata": {},
     "output_type": "execute_result"
    }
   ],
   "source": [
    "confusion_matrix(Y_test,Y_pred_test_rf)"
   ]
  },
  {
   "cell_type": "markdown",
   "id": "46509266-0fcd-48af-8b08-c076bd870552",
   "metadata": {},
   "source": [
    "### Random Forest is the most accurate"
   ]
  },
  {
   "cell_type": "markdown",
   "id": "50d35500-d5e5-4e8e-b519-5e8bc07be195",
   "metadata": {},
   "source": [
    "## Predcition of the Test data"
   ]
  },
  {
   "cell_type": "code",
   "execution_count": 93,
   "id": "d4a6b097-f72b-4f5d-9617-deea951da678",
   "metadata": {},
   "outputs": [
    {
     "name": "stdout",
     "output_type": "stream",
     "text": [
      "[0. 0. 0. ... 0. 0. 0.]\n"
     ]
    }
   ],
   "source": [
    "Final_data_predict=randf.predict(Test_data)\n",
    "print(Final_data_predict)"
   ]
  },
  {
   "cell_type": "code",
   "execution_count": 94,
   "id": "4abc1365-ed5b-41a0-be8b-ad755896e751",
   "metadata": {},
   "outputs": [],
   "source": [
    "Test_data_pred=pd.DataFrame(Final_data_predict)"
   ]
  },
  {
   "cell_type": "code",
   "execution_count": 95,
   "id": "fe1c9c75-eaae-4b46-8fd9-3d6a3fb8c077",
   "metadata": {},
   "outputs": [
    {
     "data": {
      "text/plain": [
       "0.0    56888\n",
       "1.0       74\n",
       "Name: count, dtype: int64"
      ]
     },
     "execution_count": 95,
     "metadata": {},
     "output_type": "execute_result"
    }
   ],
   "source": [
    "Test_data_pred.value_counts()"
   ]
  },
  {
   "cell_type": "markdown",
   "id": "0bc51ba7-ddb2-4c33-8ddc-03001723567f",
   "metadata": {},
   "source": [
    "### There are 74 fraud occurence in a total 56962 transactions"
   ]
  },
  {
   "cell_type": "code",
   "execution_count": null,
   "id": "aa748143-ccff-4778-8b3f-ec788372d70a",
   "metadata": {},
   "outputs": [],
   "source": []
  }
 ],
 "metadata": {
  "kernelspec": {
   "display_name": "Python 3 (ipykernel)",
   "language": "python",
   "name": "python3"
  },
  "language_info": {
   "codemirror_mode": {
    "name": "ipython",
    "version": 3
   },
   "file_extension": ".py",
   "mimetype": "text/x-python",
   "name": "python",
   "nbconvert_exporter": "python",
   "pygments_lexer": "ipython3",
   "version": "3.11.7"
  }
 },
 "nbformat": 4,
 "nbformat_minor": 5
}
